{
 "cells": [
  {
   "cell_type": "code",
   "execution_count": 31,
   "metadata": {},
   "outputs": [],
   "source": [
    "import itertools\n",
    "import math\n",
    "import re\n",
    "\n",
    "import numpy as np\n",
    "from sklearn.model_selection import train_test_split\n",
    "from sklearn.utils import shuffle\n",
    "import dynet as dy\n",
    "import torch\n",
    "\n",
    "LENGTH = 8\n",
    "PATTERN = np.array([1,0,1,0])\n",
    "FILTER_LENGTH = len(PATTERN)"
   ]
  },
  {
   "cell_type": "code",
   "execution_count": 32,
   "metadata": {},
   "outputs": [
    {
     "name": "stdout",
     "output_type": "stream",
     "text": [
      "[0 0 0 0 0 0 0 0 0 0 1 0 0 0 0 0 0 0 0 0 1 1 0 0 0 0 1 0 0 0 0 0 0 0 0 0 0\n",
      " 0 0 0 1 1 2 1 0 0 0 0 0 0 0 0 1 1 0 0 0 0 1 0 0 0 0 0 0 0 0 0 0 0 0 0 0 0\n",
      " 1 0 0 0 0 0 1 1 1 1 2 2 1 1 0 0 1 0 0 0 0 0 0 0 0 0 0 0 0 0 1 1 2 1 0 0 0\n",
      " 0 0 0 0 0 1 1 0 0 0 0 1 0 0 0 0 0 0 0 0 0 0 0 0 0 0 0 1 0 0 0 0 0 0 0 0 0\n",
      " 1 1 0 0 0 0 1 0 0 0 0 0 1 1 1 1 1 1 1 1 2 2 3 2 1 1 1 1 0 0 0 0 1 1 0 0 0\n",
      " 0 1 0 0 0 0 0 0 0 0 0 0 0 0 0 0 0 1 0 0 0 0 0 1 1 1 1 2 2 1 1 0 0 1 0 0 0\n",
      " 0 0 0 0 0 0 0 0 0 0 1 1 2 1 0 0 0 0 0 0 0 0 1 1 0 0 0 0 1 0 0 0 0 0]\n"
     ]
    }
   ],
   "source": [
    "binary_arrays = np.array(list(itertools.product([0,1], repeat=LENGTH)))\n",
    "\n",
    "get_number_of_occur = lambda test_list: len([PATTERN for idx in range(len(test_list)-len(PATTERN)+1) if (test_list[idx : idx + len(PATTERN)] == PATTERN).all()])\n",
    "occurences_arrays = np.array(list(map(get_number_of_occur, binary_arrays)))\n",
    "print(occurences_arrays)"
   ]
  },
  {
   "cell_type": "code",
   "execution_count": 33,
   "metadata": {},
   "outputs": [
    {
     "name": "stdout",
     "output_type": "stream",
     "text": [
      "Number of 0 occurences 188\n",
      "Number of 1 occurences 57\n",
      "Number of 2 occurences 10\n",
      "Number of 3 occurences 1\n"
     ]
    }
   ],
   "source": [
    "zero_arrays = binary_arrays[occurences_arrays == 0]\n",
    "print('Number of 0 occurences', (occurences_arrays == 0).sum())\n",
    "one_arrays = binary_arrays[occurences_arrays == 1]\n",
    "print('Number of 1 occurences', (occurences_arrays == 1).sum())\n",
    "two_arrays = binary_arrays[occurences_arrays == 2]\n",
    "print('Number of 2 occurences', (occurences_arrays == 2).sum())\n",
    "three_arrays = binary_arrays[occurences_arrays == 3]\n",
    "print('Number of 3 occurences', (occurences_arrays == 3).sum())"
   ]
  },
  {
   "cell_type": "code",
   "execution_count": 34,
   "metadata": {},
   "outputs": [],
   "source": [
    "zero_X_train, zero_X_test, zero_y_train, zero_y_test = train_test_split(zero_arrays, np.zeros((len(zero_arrays),)), test_size=0.2, random_state=42)\n",
    "one_X_train, one_X_test, one_y_train, one_y_test = train_test_split(one_arrays, np.ones((len(one_arrays))), test_size=0.2, random_state=42)\n",
    "two_X_train, two_X_test, two_y_train, two_y_test = train_test_split(two_arrays, np.ones((len(two_arrays))), test_size=0.2, random_state=42)\n",
    "# three_X_train, three_X_test, three_y_train, three_y_test = train_test_split(three_arrays, np.ones((len(three_arrays))), test_size=0.2, random_state=42)"
   ]
  },
  {
   "cell_type": "code",
   "execution_count": 35,
   "metadata": {},
   "outputs": [],
   "source": [
    "# zero_X_train = zero_X_test = zero_arrays\n",
    "# zero_y_train = zero_y_test = np.zeros((len(zero_X_train)), dtype=int)\n",
    "# one_X_train = one_X_test = one_arrays\n",
    "# one_y_train = one_y_test = np.ones((len(one_X_train)), dtype=int)\n",
    "# two_X_train = two_X_test = two_arrays\n",
    "# two_y_train = two_y_test = np.ones((len(two_arrays)), dtype=int)\n",
    "\n",
    "X_train = np.concatenate((zero_X_train, one_X_train, two_X_train), axis=0)\n",
    "y_train = np.concatenate((zero_y_train, one_y_train, two_y_train), axis=0)\n",
    "X_train, y_train = shuffle(X_train, y_train, random_state=0)\n",
    "\n",
    "X_test = np.concatenate((zero_X_test, one_X_test, two_X_test), axis=0)\n",
    "y_test = np.concatenate((zero_y_test, one_y_test, two_y_test), axis=0)\n",
    "X_test, y_test = shuffle(X_train, y_train, random_state=0)"
   ]
  },
  {
   "cell_type": "code",
   "execution_count": 36,
   "metadata": {},
   "outputs": [],
   "source": [
    "# data = [[1,0,0,0,1,0,1,0],\n",
    "#         [1,1,0,1,0,0,0,0],\n",
    "#         [1,0,0,0,0,0,1,0],\n",
    "#         [0,1,0,0,0,1,0,0],\n",
    "#         [0,0,1,0,1,0,1,0],\n",
    "#         [0,0,0,0,0,0,1,0],\n",
    "#         [0,1,0,1,0,0,0,0],\n",
    "#         [1,0,0,0,0,0,0,1]]\n",
    "# labels = [1,1,0,0,1,0,1,0]\n",
    "\n",
    "# X_train = X_test = np.array(data)\n",
    "# y_train = y_test = np.array(labels)"
   ]
  },
  {
   "cell_type": "code",
   "execution_count": 37,
   "metadata": {},
   "outputs": [
    {
     "data": {
      "text/plain": [
       "array([[0, 0, 1, ..., 1, 1, 0],\n",
       "       [1, 1, 0, ..., 0, 0, 1],\n",
       "       [1, 0, 0, ..., 1, 1, 1],\n",
       "       ...,\n",
       "       [1, 0, 0, ..., 1, 1, 1],\n",
       "       [1, 0, 1, ..., 1, 1, 1],\n",
       "       [1, 1, 0, ..., 0, 1, 0]])"
      ]
     },
     "metadata": {},
     "output_type": "display_data"
    },
    {
     "data": {
      "text/plain": [
       "array([0., 0., 0., 0., 0., 0., 0., 0., 0., 1., 0., 1., 1., 1., 1., 0., 0.,\n",
       "       0., 0., 0., 0., 0., 0., 0., 0., 0., 1., 1., 1., 0., 1., 0., 0., 0.,\n",
       "       0., 0., 0., 0., 0., 1., 0., 0., 0., 0., 0., 1., 0., 0., 0., 1., 0.,\n",
       "       1., 1., 0., 0., 1., 0., 0., 0., 0., 0., 0., 0., 0., 0., 1., 0., 0.,\n",
       "       1., 0., 1., 1., 0., 0., 0., 0., 0., 0., 0., 0., 1., 1., 0., 0., 0.,\n",
       "       1., 0., 0., 0., 0., 1., 0., 0., 0., 0., 0., 1., 1., 0., 0., 0., 0.,\n",
       "       1., 1., 1., 0., 0., 0., 0., 0., 0., 0., 0., 0., 0., 0., 0., 1., 0.,\n",
       "       1., 0., 1., 0., 0., 0., 0., 0., 0., 0., 1., 1., 0., 0., 0., 0., 1.,\n",
       "       1., 1., 0., 1., 0., 0., 0., 0., 0., 0., 0., 0., 1., 0., 0., 0., 1.,\n",
       "       0., 0., 0., 0., 1., 0., 0., 0., 0., 1., 0., 1., 0., 1., 0., 1., 0.,\n",
       "       1., 0., 0., 0., 0., 0., 0., 0., 1., 0., 0., 0., 1., 0., 1., 1., 1.,\n",
       "       0., 0., 0., 0., 0., 0., 0., 0., 0., 0., 1., 0., 1., 0., 0., 1.])"
      ]
     },
     "metadata": {},
     "output_type": "display_data"
    }
   ],
   "source": [
    "display(X_train)\n",
    "display(y_train)"
   ]
  },
  {
   "cell_type": "code",
   "execution_count": 65,
   "metadata": {},
   "outputs": [],
   "source": [
    "class VanillaNN(torch.nn.Module):\n",
    "    def __init__(self):\n",
    "        super(VanillaNN, self).__init__()\n",
    "        self.lin1 = torch.nn.Linear(8, 8)\n",
    "        self.lin4 = torch.nn.Linear(8, 1)\n",
    "    def forward(self, x):\n",
    "        x = torch.relu(self.lin1(x))\n",
    "        x = torch.sigmoid(self.lin4(x))\n",
    "        return x\n",
    "\n",
    "criterion = torch.nn.BCELoss()\n",
    "model = VanillaNN()\n",
    "optimizer = torch.optim.Adam(model.parameters(), lr=0.001)"
   ]
  },
  {
   "cell_type": "code",
   "execution_count": 69,
   "metadata": {},
   "outputs": [
    {
     "data": {
      "image/svg+xml": [
       "<svg xmlns=\"http://www.w3.org/2000/svg\" xmlns:xlink=\"http://www.w3.org/1999/xlink\" width=\"291pt\" height=\"215pt\" viewBox=\"0.00 0.00 299.00 221.00\">\n",
       "<g id=\"graph0\" class=\"graph\" transform=\"scale(0.972222 0.972222) rotate(0) translate(4 217)\">\n",
       "<title>G</title>\n",
       "<polygon fill=\"white\" stroke=\"none\" points=\"-4,4 -4,-217 295,-217 295,4 -4,4\"/>\n",
       "<!-- 2448909598192 -->\n",
       "<g id=\"node1\" class=\"node\"><title>2448909598192</title>\n",
       "<polygon fill=\"none\" stroke=\"black\" points=\"0,-166.5 0,-212.5 291,-212.5 291,-166.5 0,-166.5\"/>\n",
       "<text text-anchor=\"middle\" x=\"83\" y=\"-185.8\" font-family=\"Times New Roman,serif\" font-size=\"14.00\">dense_3_input: InputLayer</text>\n",
       "<polyline fill=\"none\" stroke=\"black\" points=\"166,-166.5 166,-212.5 \"/>\n",
       "<text text-anchor=\"middle\" x=\"194\" y=\"-197.3\" font-family=\"Times New Roman,serif\" font-size=\"14.00\">input:</text>\n",
       "<polyline fill=\"none\" stroke=\"black\" points=\"166,-189.5 222,-189.5 \"/>\n",
       "<text text-anchor=\"middle\" x=\"194\" y=\"-174.3\" font-family=\"Times New Roman,serif\" font-size=\"14.00\">output:</text>\n",
       "<polyline fill=\"none\" stroke=\"black\" points=\"222,-166.5 222,-212.5 \"/>\n",
       "<text text-anchor=\"middle\" x=\"256.5\" y=\"-197.3\" font-family=\"Times New Roman,serif\" font-size=\"14.00\">[(?, 8, 1)]</text>\n",
       "<polyline fill=\"none\" stroke=\"black\" points=\"222,-189.5 291,-189.5 \"/>\n",
       "<text text-anchor=\"middle\" x=\"256.5\" y=\"-174.3\" font-family=\"Times New Roman,serif\" font-size=\"14.00\">[(?, 8, 1)]</text>\n",
       "</g>\n",
       "<!-- 2448909596800 -->\n",
       "<g id=\"node2\" class=\"node\"><title>2448909596800</title>\n",
       "<polygon fill=\"none\" stroke=\"black\" points=\"35.5,-83.5 35.5,-129.5 255.5,-129.5 255.5,-83.5 35.5,-83.5\"/>\n",
       "<text text-anchor=\"middle\" x=\"87.5\" y=\"-102.8\" font-family=\"Times New Roman,serif\" font-size=\"14.00\">dense_3: Dense</text>\n",
       "<polyline fill=\"none\" stroke=\"black\" points=\"139.5,-83.5 139.5,-129.5 \"/>\n",
       "<text text-anchor=\"middle\" x=\"167.5\" y=\"-114.3\" font-family=\"Times New Roman,serif\" font-size=\"14.00\">input:</text>\n",
       "<polyline fill=\"none\" stroke=\"black\" points=\"139.5,-106.5 195.5,-106.5 \"/>\n",
       "<text text-anchor=\"middle\" x=\"167.5\" y=\"-91.3\" font-family=\"Times New Roman,serif\" font-size=\"14.00\">output:</text>\n",
       "<polyline fill=\"none\" stroke=\"black\" points=\"195.5,-83.5 195.5,-129.5 \"/>\n",
       "<text text-anchor=\"middle\" x=\"225.5\" y=\"-114.3\" font-family=\"Times New Roman,serif\" font-size=\"14.00\">(?, 8, 1)</text>\n",
       "<polyline fill=\"none\" stroke=\"black\" points=\"195.5,-106.5 255.5,-106.5 \"/>\n",
       "<text text-anchor=\"middle\" x=\"225.5\" y=\"-91.3\" font-family=\"Times New Roman,serif\" font-size=\"14.00\">(?, 8, 8)</text>\n",
       "</g>\n",
       "<!-- 2448909598192&#45;&gt;2448909596800 -->\n",
       "<g id=\"edge1\" class=\"edge\"><title>2448909598192-&gt;2448909596800</title>\n",
       "<path fill=\"none\" stroke=\"black\" d=\"M145.5,-166.366C145.5,-158.152 145.5,-148.658 145.5,-139.725\"/>\n",
       "<polygon fill=\"black\" stroke=\"black\" points=\"149,-139.607 145.5,-129.607 142,-139.607 149,-139.607\"/>\n",
       "</g>\n",
       "<!-- 2448911045632 -->\n",
       "<g id=\"node3\" class=\"node\"><title>2448911045632</title>\n",
       "<polygon fill=\"none\" stroke=\"black\" points=\"35.5,-0.5 35.5,-46.5 255.5,-46.5 255.5,-0.5 35.5,-0.5\"/>\n",
       "<text text-anchor=\"middle\" x=\"87.5\" y=\"-19.8\" font-family=\"Times New Roman,serif\" font-size=\"14.00\">dense_4: Dense</text>\n",
       "<polyline fill=\"none\" stroke=\"black\" points=\"139.5,-0.5 139.5,-46.5 \"/>\n",
       "<text text-anchor=\"middle\" x=\"167.5\" y=\"-31.3\" font-family=\"Times New Roman,serif\" font-size=\"14.00\">input:</text>\n",
       "<polyline fill=\"none\" stroke=\"black\" points=\"139.5,-23.5 195.5,-23.5 \"/>\n",
       "<text text-anchor=\"middle\" x=\"167.5\" y=\"-8.3\" font-family=\"Times New Roman,serif\" font-size=\"14.00\">output:</text>\n",
       "<polyline fill=\"none\" stroke=\"black\" points=\"195.5,-0.5 195.5,-46.5 \"/>\n",
       "<text text-anchor=\"middle\" x=\"225.5\" y=\"-31.3\" font-family=\"Times New Roman,serif\" font-size=\"14.00\">(?, 8, 8)</text>\n",
       "<polyline fill=\"none\" stroke=\"black\" points=\"195.5,-23.5 255.5,-23.5 \"/>\n",
       "<text text-anchor=\"middle\" x=\"225.5\" y=\"-8.3\" font-family=\"Times New Roman,serif\" font-size=\"14.00\">(?, 8, 1)</text>\n",
       "</g>\n",
       "<!-- 2448909596800&#45;&gt;2448911045632 -->\n",
       "<g id=\"edge2\" class=\"edge\"><title>2448909596800-&gt;2448911045632</title>\n",
       "<path fill=\"none\" stroke=\"black\" d=\"M145.5,-83.3664C145.5,-75.1516 145.5,-65.6579 145.5,-56.7252\"/>\n",
       "<polygon fill=\"black\" stroke=\"black\" points=\"149,-56.6068 145.5,-46.6068 142,-56.6069 149,-56.6068\"/>\n",
       "</g>\n",
       "</g>\n",
       "</svg>"
      ],
      "text/plain": [
       "<IPython.core.display.SVG object>"
      ]
     },
     "execution_count": 69,
     "metadata": {},
     "output_type": "execute_result"
    }
   ],
   "source": [
    "import tensorflow as tf\n",
    "from IPython.display import SVG\n",
    "from tensorflow import keras\n",
    "import tensorflow.keras.backend as K\n",
    "from tensorflow.keras.layers import Input, Dense, LSTM, GRU, Embedding, Lambda, Reshape, Conv1D, MaxPooling1D, Activation\n",
    "from tensorflow.keras.models import Model, load_model\n",
    "from tensorflow.keras.optimizers import Adam\n",
    "from tensorflow.keras.utils import model_to_dot\n",
    "from tqdm import tqdm,trange\n",
    "from tensorflow.keras import activations\n",
    "\n",
    "\n",
    "def get_conv_model():\n",
    "    model = keras.Sequential()\n",
    "    model.add(Dense(8, activation='relu', input_shape=(LENGTH, 1)))\n",
    "    model.add(Dense(1, activation='sigmoid'))\n",
    "    model.compile(optimizer='adam', loss='mean_squared_error')\n",
    "    return model\n",
    "\n",
    "model = get_conv_model()\n",
    "with open(\"vanilla1.pdf\", \"wb\") as text_file:\n",
    "    text_file.write(model_to_dot(model, show_shapes=True, dpi=70).create(prog='dot', format='pdf'))\n",
    "# visualize\n",
    "SVG(model_to_dot(model, show_shapes=True, dpi=70).create(prog='dot', format='svg'))"
   ]
  },
  {
   "cell_type": "code",
   "execution_count": null,
   "metadata": {},
   "outputs": [],
   "source": [
    "class VanillaNN(torch.nn.Module):\n",
    "    def __init__(self):\n",
    "        super(VanillaNN, self).__init__()\n",
    "        self.lin1 = torch.nn.Linear(8, 50)\n",
    "        self.lin4 = torch.nn.Linear(50, 1)\n",
    "    def forward(self, x):\n",
    "        x = torch.relu(self.lin1(x))\n",
    "        x = torch.sigmoid(self.lin4(x))\n",
    "        return x\n",
    "\n",
    "criterion = torch.nn.BCELoss()\n",
    "model = VanillaNN()\n",
    "optimizer = torch.optim.Adam(model.parameters(), lr=0.001)"
   ]
  },
  {
   "cell_type": "code",
   "execution_count": 71,
   "metadata": {},
   "outputs": [
    {
     "data": {
      "image/svg+xml": [
       "<svg xmlns=\"http://www.w3.org/2000/svg\" xmlns:xlink=\"http://www.w3.org/1999/xlink\" width=\"291pt\" height=\"215pt\" viewBox=\"0.00 0.00 299.00 221.00\">\n",
       "<g id=\"graph0\" class=\"graph\" transform=\"scale(0.972222 0.972222) rotate(0) translate(4 217)\">\n",
       "<title>G</title>\n",
       "<polygon fill=\"white\" stroke=\"none\" points=\"-4,4 -4,-217 295,-217 295,4 -4,4\"/>\n",
       "<!-- 2449014120400 -->\n",
       "<g id=\"node1\" class=\"node\"><title>2449014120400</title>\n",
       "<polygon fill=\"none\" stroke=\"black\" points=\"0,-166.5 0,-212.5 291,-212.5 291,-166.5 0,-166.5\"/>\n",
       "<text text-anchor=\"middle\" x=\"83\" y=\"-185.8\" font-family=\"Times New Roman,serif\" font-size=\"14.00\">dense_7_input: InputLayer</text>\n",
       "<polyline fill=\"none\" stroke=\"black\" points=\"166,-166.5 166,-212.5 \"/>\n",
       "<text text-anchor=\"middle\" x=\"194\" y=\"-197.3\" font-family=\"Times New Roman,serif\" font-size=\"14.00\">input:</text>\n",
       "<polyline fill=\"none\" stroke=\"black\" points=\"166,-189.5 222,-189.5 \"/>\n",
       "<text text-anchor=\"middle\" x=\"194\" y=\"-174.3\" font-family=\"Times New Roman,serif\" font-size=\"14.00\">output:</text>\n",
       "<polyline fill=\"none\" stroke=\"black\" points=\"222,-166.5 222,-212.5 \"/>\n",
       "<text text-anchor=\"middle\" x=\"256.5\" y=\"-197.3\" font-family=\"Times New Roman,serif\" font-size=\"14.00\">[(?, 8, 1)]</text>\n",
       "<polyline fill=\"none\" stroke=\"black\" points=\"222,-189.5 291,-189.5 \"/>\n",
       "<text text-anchor=\"middle\" x=\"256.5\" y=\"-174.3\" font-family=\"Times New Roman,serif\" font-size=\"14.00\">[(?, 8, 1)]</text>\n",
       "</g>\n",
       "<!-- 2449014118960 -->\n",
       "<g id=\"node2\" class=\"node\"><title>2449014118960</title>\n",
       "<polygon fill=\"none\" stroke=\"black\" points=\"32,-83.5 32,-129.5 259,-129.5 259,-83.5 32,-83.5\"/>\n",
       "<text text-anchor=\"middle\" x=\"84\" y=\"-102.8\" font-family=\"Times New Roman,serif\" font-size=\"14.00\">dense_7: Dense</text>\n",
       "<polyline fill=\"none\" stroke=\"black\" points=\"136,-83.5 136,-129.5 \"/>\n",
       "<text text-anchor=\"middle\" x=\"164\" y=\"-114.3\" font-family=\"Times New Roman,serif\" font-size=\"14.00\">input:</text>\n",
       "<polyline fill=\"none\" stroke=\"black\" points=\"136,-106.5 192,-106.5 \"/>\n",
       "<text text-anchor=\"middle\" x=\"164\" y=\"-91.3\" font-family=\"Times New Roman,serif\" font-size=\"14.00\">output:</text>\n",
       "<polyline fill=\"none\" stroke=\"black\" points=\"192,-83.5 192,-129.5 \"/>\n",
       "<text text-anchor=\"middle\" x=\"225.5\" y=\"-114.3\" font-family=\"Times New Roman,serif\" font-size=\"14.00\">(?, 8, 1)</text>\n",
       "<polyline fill=\"none\" stroke=\"black\" points=\"192,-106.5 259,-106.5 \"/>\n",
       "<text text-anchor=\"middle\" x=\"225.5\" y=\"-91.3\" font-family=\"Times New Roman,serif\" font-size=\"14.00\">(?, 8, 50)</text>\n",
       "</g>\n",
       "<!-- 2449014120400&#45;&gt;2449014118960 -->\n",
       "<g id=\"edge1\" class=\"edge\"><title>2449014120400-&gt;2449014118960</title>\n",
       "<path fill=\"none\" stroke=\"black\" d=\"M145.5,-166.366C145.5,-158.152 145.5,-148.658 145.5,-139.725\"/>\n",
       "<polygon fill=\"black\" stroke=\"black\" points=\"149,-139.607 145.5,-129.607 142,-139.607 149,-139.607\"/>\n",
       "</g>\n",
       "<!-- 2449013519168 -->\n",
       "<g id=\"node3\" class=\"node\"><title>2449013519168</title>\n",
       "<polygon fill=\"none\" stroke=\"black\" points=\"32,-0.5 32,-46.5 259,-46.5 259,-0.5 32,-0.5\"/>\n",
       "<text text-anchor=\"middle\" x=\"84\" y=\"-19.8\" font-family=\"Times New Roman,serif\" font-size=\"14.00\">dense_8: Dense</text>\n",
       "<polyline fill=\"none\" stroke=\"black\" points=\"136,-0.5 136,-46.5 \"/>\n",
       "<text text-anchor=\"middle\" x=\"164\" y=\"-31.3\" font-family=\"Times New Roman,serif\" font-size=\"14.00\">input:</text>\n",
       "<polyline fill=\"none\" stroke=\"black\" points=\"136,-23.5 192,-23.5 \"/>\n",
       "<text text-anchor=\"middle\" x=\"164\" y=\"-8.3\" font-family=\"Times New Roman,serif\" font-size=\"14.00\">output:</text>\n",
       "<polyline fill=\"none\" stroke=\"black\" points=\"192,-0.5 192,-46.5 \"/>\n",
       "<text text-anchor=\"middle\" x=\"225.5\" y=\"-31.3\" font-family=\"Times New Roman,serif\" font-size=\"14.00\">(?, 8, 50)</text>\n",
       "<polyline fill=\"none\" stroke=\"black\" points=\"192,-23.5 259,-23.5 \"/>\n",
       "<text text-anchor=\"middle\" x=\"225.5\" y=\"-8.3\" font-family=\"Times New Roman,serif\" font-size=\"14.00\">(?, 8, 1)</text>\n",
       "</g>\n",
       "<!-- 2449014118960&#45;&gt;2449013519168 -->\n",
       "<g id=\"edge2\" class=\"edge\"><title>2449014118960-&gt;2449013519168</title>\n",
       "<path fill=\"none\" stroke=\"black\" d=\"M145.5,-83.3664C145.5,-75.1516 145.5,-65.6579 145.5,-56.7252\"/>\n",
       "<polygon fill=\"black\" stroke=\"black\" points=\"149,-56.6068 145.5,-46.6068 142,-56.6069 149,-56.6068\"/>\n",
       "</g>\n",
       "</g>\n",
       "</svg>"
      ],
      "text/plain": [
       "<IPython.core.display.SVG object>"
      ]
     },
     "execution_count": 71,
     "metadata": {},
     "output_type": "execute_result"
    }
   ],
   "source": [
    "def get_conv_model():\n",
    "    model = keras.Sequential()\n",
    "    model.add(Dense(50, activation='relu', input_shape=(LENGTH, 1)))\n",
    "    model.add(Dense(1, activation='sigmoid'))\n",
    "    model.compile(optimizer='adam', loss='mean_squared_error')\n",
    "    return model\n",
    "\n",
    "model = get_conv_model()\n",
    "with open(\"vanilla2.pdf\", \"wb\") as text_file:\n",
    "    text_file.write(model_to_dot(model, show_shapes=True, dpi=70).create(prog='dot', format='pdf'))\n",
    "# visualize\n",
    "SVG(model_to_dot(model, show_shapes=True, dpi=70).create(prog='dot', format='svg'))"
   ]
  },
  {
   "cell_type": "code",
   "execution_count": null,
   "metadata": {},
   "outputs": [],
   "source": []
  },
  {
   "cell_type": "code",
   "execution_count": 66,
   "metadata": {},
   "outputs": [
    {
     "name": "stdout",
     "output_type": "stream",
     "text": [
      "499\n",
      "0.26413804292678833\n",
      "Accuracy 188/203\n",
      "999\n",
      "0.15941905975341797\n",
      "Accuracy 189/203\n",
      "1499\n",
      "0.08166002482175827\n",
      "Accuracy 196/203\n",
      "1999\n",
      "0.016796501353383064\n",
      "Accuracy 202/203\n",
      "2499\n",
      "0.013398607261478901\n",
      "Accuracy 202/203\n",
      "2999\n",
      "0.0036929070483893156\n",
      "Accuracy 203/203\n",
      "3499\n",
      "0.002199301030486822\n",
      "Accuracy 203/203\n",
      "3999\n",
      "0.0009060602751560509\n",
      "Accuracy 203/203\n",
      "4499\n",
      "0.0014229214284569025\n",
      "Accuracy 203/203\n",
      "4999\n",
      "0.00024400344409514219\n",
      "Accuracy 203/203\n",
      "Perfect iteration: 1793\n"
     ]
    }
   ],
   "source": [
    "perfect_iter = None\n",
    "X = torch.tensor(X_train).float()\n",
    "y = torch.tensor(y_train).float().reshape((-1,1))\n",
    "for epoch in range(5000):\n",
    "    # Forward pass\n",
    "    y_pred = model(X)\n",
    "    # Compute Loss\n",
    "    loss = criterion(y_pred, y)\n",
    "    # Backward pass\n",
    "    loss.backward()\n",
    "    optimizer.step()\n",
    "    \n",
    "    output = np.array((y_pred.squeeze()>0.5).float())\n",
    "    correct = (output == y_train).sum()\n",
    "    if perfect_iter is None and correct == len(y_train):\n",
    "        perfect_iter = epoch+1\n",
    "    \n",
    "    if (epoch + 1) % 500 == 0:\n",
    "        print(epoch)\n",
    "#         print(output)\n",
    "        print(loss.item())\n",
    "        print(f'Accuracy {correct}/{len(y_train)}')\n",
    "        \n",
    "print(f'Perfect iteration: {perfect_iter}')"
   ]
  },
  {
   "cell_type": "code",
   "execution_count": null,
   "metadata": {},
   "outputs": [],
   "source": [
    "print(model.lin1.weight.data)"
   ]
  },
  {
   "cell_type": "code",
   "execution_count": 15,
   "metadata": {},
   "outputs": [
    {
     "name": "stdout",
     "output_type": "stream",
     "text": [
      "[0. 1. 0. 0. 0. 1. 0. 0. 1. 0. 0. 1. 1. 0. 0. 0. 1. 0. 0. 0. 0. 0. 0. 1.\n",
      " 0. 0. 0. 0. 0. 1. 1. 0. 0. 0. 1. 0. 1. 1. 0. 1. 0. 0. 1. 1. 1. 0. 0. 0.\n",
      " 0. 0. 0. 0. 0. 0. 1. 0. 0. 1. 0. 0. 0. 0. 0. 0. 0. 0. 0. 0. 1. 1. 1. 0.\n",
      " 0. 0. 0. 0. 0. 0. 1. 1. 0. 0. 0. 0. 1. 0. 0. 0. 0. 0. 1. 0. 0. 0. 0. 0.\n",
      " 0. 0. 0. 0. 0. 0. 0. 0. 0. 0. 0. 0. 0. 0. 0. 0. 0. 0. 1. 0. 1. 0. 1. 1.\n",
      " 0. 0. 1. 0. 0. 0. 1. 1. 0. 1. 0. 0. 1. 0. 1. 0. 0. 1. 0. 1. 1. 1. 1. 0.\n",
      " 0. 1. 0. 0. 0. 0. 0. 0. 0. 0. 0. 0. 0. 0. 0. 0. 1. 0. 0. 0. 1. 0. 1. 0.\n",
      " 0. 0. 0. 0. 0. 0. 0. 0. 0. 1. 1. 0. 0. 0. 0. 1. 0. 0. 1. 1. 0. 0. 0. 1.\n",
      " 0. 0. 0. 1. 1. 0. 0. 0. 1. 0. 0.]\n",
      "Accuracy 203/203\n"
     ]
    }
   ],
   "source": [
    "X_t = torch.tensor(X_test).float()\n",
    "y_t = torch.tensor(y_test).float().reshape((-1,1))\n",
    "\n",
    "y_pred = model(X_t)\n",
    "output = np.array((y_pred.squeeze()>0.5).float())\n",
    "correct = (output == y_test).sum()\n",
    "\n",
    "if perfect_iter is None and correct == len(y_test):\n",
    "    perfect_iter = epoch+1\n",
    "\n",
    "print(output)\n",
    "print(f'Accuracy {correct}/{len(y_train)}')"
   ]
  },
  {
   "cell_type": "code",
   "execution_count": null,
   "metadata": {},
   "outputs": [],
   "source": []
  }
 ],
 "metadata": {
  "kernelspec": {
   "display_name": "bakalarka",
   "language": "python",
   "name": "bakalarka"
  },
  "language_info": {
   "codemirror_mode": {
    "name": "ipython",
    "version": 3
   },
   "file_extension": ".py",
   "mimetype": "text/x-python",
   "name": "python",
   "nbconvert_exporter": "python",
   "pygments_lexer": "ipython3",
   "version": "3.8.5"
  }
 },
 "nbformat": 4,
 "nbformat_minor": 4
}
