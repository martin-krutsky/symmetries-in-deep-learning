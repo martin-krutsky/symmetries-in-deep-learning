{
 "cells": [
  {
   "cell_type": "code",
   "execution_count": 3,
   "metadata": {},
   "outputs": [],
   "source": [
    "import itertools\n",
    "import math\n",
    "import re\n",
    "\n",
    "import numpy as np\n",
    "from sklearn.model_selection import train_test_split\n",
    "from sklearn.utils import shuffle\n",
    "import dynet as dy\n",
    "import torch\n",
    "\n",
    "from torchviz import make_dot\n",
    "\n",
    "LENGTH = 8\n",
    "PATTERN = np.array([1,0,1,0])\n",
    "FILTER_LENGTH = len(PATTERN)"
   ]
  },
  {
   "cell_type": "code",
   "execution_count": 4,
   "metadata": {},
   "outputs": [
    {
     "name": "stdout",
     "output_type": "stream",
     "text": [
      "[0 0 0 0 0 0 0 0 0 0 1 0 0 0 0 0 0 0 0 0 1 1 0 0 0 0 1 0 0 0 0 0 0 0 0 0 0\n",
      " 0 0 0 1 1 2 1 0 0 0 0 0 0 0 0 1 1 0 0 0 0 1 0 0 0 0 0 0 0 0 0 0 0 0 0 0 0\n",
      " 1 0 0 0 0 0 1 1 1 1 2 2 1 1 0 0 1 0 0 0 0 0 0 0 0 0 0 0 0 0 1 1 2 1 0 0 0\n",
      " 0 0 0 0 0 1 1 0 0 0 0 1 0 0 0 0 0 0 0 0 0 0 0 0 0 0 0 1 0 0 0 0 0 0 0 0 0\n",
      " 1 1 0 0 0 0 1 0 0 0 0 0 1 1 1 1 1 1 1 1 2 2 3 2 1 1 1 1 0 0 0 0 1 1 0 0 0\n",
      " 0 1 0 0 0 0 0 0 0 0 0 0 0 0 0 0 0 1 0 0 0 0 0 1 1 1 1 2 2 1 1 0 0 1 0 0 0\n",
      " 0 0 0 0 0 0 0 0 0 0 1 1 2 1 0 0 0 0 0 0 0 0 1 1 0 0 0 0 1 0 0 0 0 0]\n"
     ]
    }
   ],
   "source": [
    "binary_arrays = np.array(list(itertools.product([0,1], repeat=LENGTH)))\n",
    "\n",
    "get_number_of_occur = lambda test_list: len([PATTERN for idx in range(len(test_list)-len(PATTERN)+1) if (test_list[idx : idx + len(PATTERN)] == PATTERN).all()])\n",
    "occurences_arrays = np.array(list(map(get_number_of_occur, binary_arrays)))\n",
    "print(occurences_arrays)"
   ]
  },
  {
   "cell_type": "code",
   "execution_count": 5,
   "metadata": {},
   "outputs": [
    {
     "name": "stdout",
     "output_type": "stream",
     "text": [
      "Number of 0 occurences 188\n",
      "Number of 1 occurences 57\n",
      "Number of 2 occurences 10\n",
      "Number of 3 occurences 1\n"
     ]
    }
   ],
   "source": [
    "zero_arrays = binary_arrays[occurences_arrays == 0]\n",
    "print('Number of 0 occurences', (occurences_arrays == 0).sum())\n",
    "one_arrays = binary_arrays[occurences_arrays == 1]\n",
    "print('Number of 1 occurences', (occurences_arrays == 1).sum())\n",
    "two_arrays = binary_arrays[occurences_arrays == 2]\n",
    "print('Number of 2 occurences', (occurences_arrays == 2).sum())\n",
    "three_arrays = binary_arrays[occurences_arrays == 3]\n",
    "print('Number of 3 occurences', (occurences_arrays == 3).sum())"
   ]
  },
  {
   "cell_type": "code",
   "execution_count": 6,
   "metadata": {},
   "outputs": [],
   "source": [
    "zero_X_train, zero_X_test, zero_y_train, zero_y_test = train_test_split(zero_arrays, np.zeros((len(zero_arrays),)), test_size=0.2, random_state=42)\n",
    "one_X_train, one_X_test, one_y_train, one_y_test = train_test_split(one_arrays, np.ones((len(one_arrays))), test_size=0.2, random_state=42)\n",
    "two_X_train, two_X_test, two_y_train, two_y_test = train_test_split(two_arrays, np.ones((len(two_arrays))), test_size=0.2, random_state=42)"
   ]
  },
  {
   "cell_type": "code",
   "execution_count": 7,
   "metadata": {},
   "outputs": [],
   "source": [
    "# zero_X_train = zero_X_test = zero_arrays\n",
    "# zero_y_train = zero_y_test = np.zeros((len(zero_X_train)), dtype=int)\n",
    "# one_X_train = one_X_test = one_arrays\n",
    "# one_y_train = one_y_test = np.ones((len(one_X_train)), dtype=int)\n",
    "# two_X_train = two_X_test = two_arrays\n",
    "# two_y_train = two_y_test = np.ones((len(two_arrays)), dtype=int)\n",
    "\n",
    "X_train = np.concatenate((zero_X_train, one_X_train, two_X_train), axis=0)\n",
    "y_train = np.concatenate((zero_y_train, one_y_train, two_y_train), axis=0)\n",
    "X_train, y_train = shuffle(X_train, y_train, random_state=0)\n",
    "\n",
    "X_test = np.concatenate((zero_X_test, one_X_test, two_X_test), axis=0)\n",
    "y_test = np.concatenate((zero_y_test, one_y_test, two_y_test), axis=0)\n",
    "X_test, y_test = shuffle(X_train, y_train, random_state=0)"
   ]
  },
  {
   "cell_type": "code",
   "execution_count": 8,
   "metadata": {},
   "outputs": [],
   "source": [
    "# data = [[1,0,0,0,1,0,1,0],\n",
    "#         [1,1,0,1,0,0,0,0],\n",
    "#         [1,0,0,0,0,0,1,0],\n",
    "#         [0,1,0,0,0,1,0,0],\n",
    "#         [0,0,1,0,1,0,1,0],\n",
    "#         [0,0,0,0,0,0,1,0],\n",
    "#         [0,1,0,1,0,0,0,0],\n",
    "#         [1,0,0,0,0,0,0,1]]\n",
    "# labels = [1,1,0,0,1,0,1,0]\n",
    "\n",
    "# X_train = X_test = np.array(data)\n",
    "# y_train = y_test = np.array(labels)"
   ]
  },
  {
   "cell_type": "code",
   "execution_count": 9,
   "metadata": {},
   "outputs": [
    {
     "data": {
      "text/plain": [
       "array([[0, 0, 1, ..., 1, 1, 0],\n",
       "       [1, 1, 0, ..., 0, 0, 1],\n",
       "       [1, 0, 0, ..., 1, 1, 1],\n",
       "       ...,\n",
       "       [1, 0, 0, ..., 1, 1, 1],\n",
       "       [1, 0, 1, ..., 1, 1, 1],\n",
       "       [1, 1, 0, ..., 0, 1, 0]])"
      ]
     },
     "metadata": {},
     "output_type": "display_data"
    },
    {
     "data": {
      "text/plain": [
       "array([0., 0., 0., 0., 0., 0., 0., 0., 0., 1., 0., 1., 1., 1., 1., 0., 0.,\n",
       "       0., 0., 0., 0., 0., 0., 0., 0., 0., 1., 1., 1., 0., 1., 0., 0., 0.,\n",
       "       0., 0., 0., 0., 0., 1., 0., 0., 0., 0., 0., 1., 0., 0., 0., 1., 0.,\n",
       "       1., 1., 0., 0., 1., 0., 0., 0., 0., 0., 0., 0., 0., 0., 1., 0., 0.,\n",
       "       1., 0., 1., 1., 0., 0., 0., 0., 0., 0., 0., 0., 1., 1., 0., 0., 0.,\n",
       "       1., 0., 0., 0., 0., 1., 0., 0., 0., 0., 0., 1., 1., 0., 0., 0., 0.,\n",
       "       1., 1., 1., 0., 0., 0., 0., 0., 0., 0., 0., 0., 0., 0., 0., 1., 0.,\n",
       "       1., 0., 1., 0., 0., 0., 0., 0., 0., 0., 1., 1., 0., 0., 0., 0., 1.,\n",
       "       1., 1., 0., 1., 0., 0., 0., 0., 0., 0., 0., 0., 1., 0., 0., 0., 1.,\n",
       "       0., 0., 0., 0., 1., 0., 0., 0., 0., 1., 0., 1., 0., 1., 0., 1., 0.,\n",
       "       1., 0., 0., 0., 0., 0., 0., 0., 1., 0., 0., 0., 1., 0., 1., 1., 1.,\n",
       "       0., 0., 0., 0., 0., 0., 0., 0., 0., 0., 1., 0., 1., 0., 0., 1.])"
      ]
     },
     "metadata": {},
     "output_type": "display_data"
    }
   ],
   "source": [
    "display(X_train)\n",
    "display(y_train)"
   ]
  },
  {
   "cell_type": "code",
   "execution_count": 34,
   "metadata": {},
   "outputs": [],
   "source": [
    "class Simple1DCNN(torch.nn.Module):\n",
    "    def __init__(self):\n",
    "        super(Simple1DCNN, self).__init__()\n",
    "        self.conv_layer = torch.nn.Conv1d(in_channels=1, out_channels=1, kernel_size=FILTER_LENGTH, stride=1)\n",
    "        self.pooling = torch.nn.MaxPool1d(LENGTH - FILTER_LENGTH + 1, stride=1)\n",
    "    def forward(self, x):\n",
    "        x = x.unsqueeze(1)\n",
    "        x = self.conv_layer(x)\n",
    "        x = self.pooling(x)\n",
    "        x = x.squeeze(1)\n",
    "        x = torch.sigmoid(x)\n",
    "        return x"
   ]
  },
  {
   "cell_type": "code",
   "execution_count": 31,
   "metadata": {},
   "outputs": [
    {
     "data": {
      "image/svg+xml": [
       "<svg xmlns=\"http://www.w3.org/2000/svg\" xmlns:xlink=\"http://www.w3.org/1999/xlink\" width=\"324pt\" height=\"296pt\" viewBox=\"0.00 0.00 333.00 304.00\">\n",
       "<g id=\"graph0\" class=\"graph\" transform=\"scale(0.972222 0.972222) rotate(0) translate(4 300)\">\n",
       "<title>G</title>\n",
       "<polygon fill=\"white\" stroke=\"none\" points=\"-4,4 -4,-300 329,-300 329,4 -4,4\"/>\n",
       "<!-- 2181523678880 -->\n",
       "<g id=\"node1\" class=\"node\"><title>2181523678880</title>\n",
       "<polygon fill=\"none\" stroke=\"black\" points=\"9,-249.5 9,-295.5 316,-295.5 316,-249.5 9,-249.5\"/>\n",
       "<text text-anchor=\"middle\" x=\"100\" y=\"-268.8\" font-family=\"Times New Roman,serif\" font-size=\"14.00\">conv1d_11_input: InputLayer</text>\n",
       "<polyline fill=\"none\" stroke=\"black\" points=\"191,-249.5 191,-295.5 \"/>\n",
       "<text text-anchor=\"middle\" x=\"219\" y=\"-280.3\" font-family=\"Times New Roman,serif\" font-size=\"14.00\">input:</text>\n",
       "<polyline fill=\"none\" stroke=\"black\" points=\"191,-272.5 247,-272.5 \"/>\n",
       "<text text-anchor=\"middle\" x=\"219\" y=\"-257.3\" font-family=\"Times New Roman,serif\" font-size=\"14.00\">output:</text>\n",
       "<polyline fill=\"none\" stroke=\"black\" points=\"247,-249.5 247,-295.5 \"/>\n",
       "<text text-anchor=\"middle\" x=\"281.5\" y=\"-280.3\" font-family=\"Times New Roman,serif\" font-size=\"14.00\">[(?, 8, 1)]</text>\n",
       "<polyline fill=\"none\" stroke=\"black\" points=\"247,-272.5 316,-272.5 \"/>\n",
       "<text text-anchor=\"middle\" x=\"281.5\" y=\"-257.3\" font-family=\"Times New Roman,serif\" font-size=\"14.00\">[(?, 8, 1)]</text>\n",
       "</g>\n",
       "<!-- 2181523557680 -->\n",
       "<g id=\"node2\" class=\"node\"><title>2181523557680</title>\n",
       "<polygon fill=\"none\" stroke=\"black\" points=\"37.5,-166.5 37.5,-212.5 287.5,-212.5 287.5,-166.5 37.5,-166.5\"/>\n",
       "<text text-anchor=\"middle\" x=\"104.5\" y=\"-185.8\" font-family=\"Times New Roman,serif\" font-size=\"14.00\">conv1d_11: Conv1D</text>\n",
       "<polyline fill=\"none\" stroke=\"black\" points=\"171.5,-166.5 171.5,-212.5 \"/>\n",
       "<text text-anchor=\"middle\" x=\"199.5\" y=\"-197.3\" font-family=\"Times New Roman,serif\" font-size=\"14.00\">input:</text>\n",
       "<polyline fill=\"none\" stroke=\"black\" points=\"171.5,-189.5 227.5,-189.5 \"/>\n",
       "<text text-anchor=\"middle\" x=\"199.5\" y=\"-174.3\" font-family=\"Times New Roman,serif\" font-size=\"14.00\">output:</text>\n",
       "<polyline fill=\"none\" stroke=\"black\" points=\"227.5,-166.5 227.5,-212.5 \"/>\n",
       "<text text-anchor=\"middle\" x=\"257.5\" y=\"-197.3\" font-family=\"Times New Roman,serif\" font-size=\"14.00\">(?, 8, 1)</text>\n",
       "<polyline fill=\"none\" stroke=\"black\" points=\"227.5,-189.5 287.5,-189.5 \"/>\n",
       "<text text-anchor=\"middle\" x=\"257.5\" y=\"-174.3\" font-family=\"Times New Roman,serif\" font-size=\"14.00\">(?, 5, 2)</text>\n",
       "</g>\n",
       "<!-- 2181523678880&#45;&gt;2181523557680 -->\n",
       "<g id=\"edge1\" class=\"edge\"><title>2181523678880-&gt;2181523557680</title>\n",
       "<path fill=\"none\" stroke=\"black\" d=\"M162.5,-249.366C162.5,-241.152 162.5,-231.658 162.5,-222.725\"/>\n",
       "<polygon fill=\"black\" stroke=\"black\" points=\"166,-222.607 162.5,-212.607 159,-222.607 166,-222.607\"/>\n",
       "</g>\n",
       "<!-- 2181523679888 -->\n",
       "<g id=\"node3\" class=\"node\"><title>2181523679888</title>\n",
       "<polygon fill=\"none\" stroke=\"black\" points=\"0,-83.5 0,-129.5 325,-129.5 325,-83.5 0,-83.5\"/>\n",
       "<text text-anchor=\"middle\" x=\"104.5\" y=\"-102.8\" font-family=\"Times New Roman,serif\" font-size=\"14.00\">max_pooling1d_7: MaxPooling1D</text>\n",
       "<polyline fill=\"none\" stroke=\"black\" points=\"209,-83.5 209,-129.5 \"/>\n",
       "<text text-anchor=\"middle\" x=\"237\" y=\"-114.3\" font-family=\"Times New Roman,serif\" font-size=\"14.00\">input:</text>\n",
       "<polyline fill=\"none\" stroke=\"black\" points=\"209,-106.5 265,-106.5 \"/>\n",
       "<text text-anchor=\"middle\" x=\"237\" y=\"-91.3\" font-family=\"Times New Roman,serif\" font-size=\"14.00\">output:</text>\n",
       "<polyline fill=\"none\" stroke=\"black\" points=\"265,-83.5 265,-129.5 \"/>\n",
       "<text text-anchor=\"middle\" x=\"295\" y=\"-114.3\" font-family=\"Times New Roman,serif\" font-size=\"14.00\">(?, 5, 2)</text>\n",
       "<polyline fill=\"none\" stroke=\"black\" points=\"265,-106.5 325,-106.5 \"/>\n",
       "<text text-anchor=\"middle\" x=\"295\" y=\"-91.3\" font-family=\"Times New Roman,serif\" font-size=\"14.00\">(?, 1, 2)</text>\n",
       "</g>\n",
       "<!-- 2181523557680&#45;&gt;2181523679888 -->\n",
       "<g id=\"edge2\" class=\"edge\"><title>2181523557680-&gt;2181523679888</title>\n",
       "<path fill=\"none\" stroke=\"black\" d=\"M162.5,-166.366C162.5,-158.152 162.5,-148.658 162.5,-139.725\"/>\n",
       "<polygon fill=\"black\" stroke=\"black\" points=\"166,-139.607 162.5,-129.607 159,-139.607 166,-139.607\"/>\n",
       "</g>\n",
       "<!-- 2181394268608 -->\n",
       "<g id=\"node4\" class=\"node\"><title>2181394268608</title>\n",
       "<polygon fill=\"none\" stroke=\"black\" points=\"30.5,-0.5 30.5,-46.5 294.5,-46.5 294.5,-0.5 30.5,-0.5\"/>\n",
       "<text text-anchor=\"middle\" x=\"104.5\" y=\"-19.8\" font-family=\"Times New Roman,serif\" font-size=\"14.00\">activation_3: Activation</text>\n",
       "<polyline fill=\"none\" stroke=\"black\" points=\"178.5,-0.5 178.5,-46.5 \"/>\n",
       "<text text-anchor=\"middle\" x=\"206.5\" y=\"-31.3\" font-family=\"Times New Roman,serif\" font-size=\"14.00\">input:</text>\n",
       "<polyline fill=\"none\" stroke=\"black\" points=\"178.5,-23.5 234.5,-23.5 \"/>\n",
       "<text text-anchor=\"middle\" x=\"206.5\" y=\"-8.3\" font-family=\"Times New Roman,serif\" font-size=\"14.00\">output:</text>\n",
       "<polyline fill=\"none\" stroke=\"black\" points=\"234.5,-0.5 234.5,-46.5 \"/>\n",
       "<text text-anchor=\"middle\" x=\"264.5\" y=\"-31.3\" font-family=\"Times New Roman,serif\" font-size=\"14.00\">(?, 1, 2)</text>\n",
       "<polyline fill=\"none\" stroke=\"black\" points=\"234.5,-23.5 294.5,-23.5 \"/>\n",
       "<text text-anchor=\"middle\" x=\"264.5\" y=\"-8.3\" font-family=\"Times New Roman,serif\" font-size=\"14.00\">(?, 1, 2)</text>\n",
       "</g>\n",
       "<!-- 2181523679888&#45;&gt;2181394268608 -->\n",
       "<g id=\"edge3\" class=\"edge\"><title>2181523679888-&gt;2181394268608</title>\n",
       "<path fill=\"none\" stroke=\"black\" d=\"M162.5,-83.3664C162.5,-75.1516 162.5,-65.6579 162.5,-56.7252\"/>\n",
       "<polygon fill=\"black\" stroke=\"black\" points=\"166,-56.6068 162.5,-46.6068 159,-56.6069 166,-56.6068\"/>\n",
       "</g>\n",
       "</g>\n",
       "</svg>"
      ],
      "text/plain": [
       "<IPython.core.display.SVG object>"
      ]
     },
     "execution_count": 31,
     "metadata": {},
     "output_type": "execute_result"
    }
   ],
   "source": [
    "import tensorflow as tf\n",
    "from IPython.display import SVG\n",
    "from tensorflow import keras\n",
    "import tensorflow.keras.backend as K\n",
    "from tensorflow.keras.layers import Input, Dense, LSTM, GRU, Embedding, Lambda, Reshape, Conv1D, MaxPooling1D, Activation\n",
    "from tensorflow.keras.models import Model, load_model\n",
    "from tensorflow.keras.optimizers import Adam\n",
    "from tensorflow.keras.utils import model_to_dot\n",
    "from tqdm import tqdm,trange\n",
    "from tensorflow.keras import activations\n",
    "\n",
    "\n",
    "def get_conv_model():\n",
    "    model = keras.Sequential()\n",
    "    model.add(Conv1D(filters=1, kernel_size=4, padding='valid', activation='relu', input_shape=(LENGTH, 1)))\n",
    "    model.add(MaxPooling1D(pool_size=5))\n",
    "    model.add(Activation(activations.sigmoid))\n",
    "    model.compile(optimizer='adam', loss='mean_squared_error')\n",
    "    return model\n",
    "\n",
    "model = get_conv_model()\n",
    "with open(\"1dconvarch.pdf\", \"wb\") as text_file:\n",
    "    text_file.write(model_to_dot(model, show_shapes=True, dpi=70).create(prog='dot', format='pdf'))\n",
    "# visualize\n",
    "SVG(model_to_dot(model, show_shapes=True, dpi=70).create(prog='dot', format='svg'))"
   ]
  },
  {
   "cell_type": "code",
   "execution_count": 40,
   "metadata": {},
   "outputs": [
    {
     "name": "stdout",
     "output_type": "stream",
     "text": [
      "0.08915944397449493\n",
      "Accuracy 203/203\n",
      "0.009090476669371128\n",
      "Accuracy 203/203\n",
      "0.0015468377387151122\n",
      "Accuracy 203/203\n",
      "0.0006480273441411555\n",
      "Accuracy 203/203\n",
      "0.0003036127018276602\n",
      "Accuracy 203/203\n",
      "0.00017352442955598235\n",
      "Accuracy 203/203\n",
      "0.00012529113155324012\n",
      "Accuracy 203/203\n",
      "9.990877151722088e-05\n",
      "Accuracy 203/203\n",
      "8.476364746456966e-05\n",
      "Accuracy 203/203\n",
      "7.48455204302445e-05\n",
      "Accuracy 203/203\n",
      "Perfect iteration: 217\n"
     ]
    }
   ],
   "source": [
    "criterion = torch.nn.BCELoss()\n",
    "model = Simple1DCNN()\n",
    "optimizer = torch.optim.Adam(model.parameters(), lr=0.01)\n",
    "\n",
    "perfect_iter = None\n",
    "X = torch.tensor(X_train).float()\n",
    "y = torch.tensor(y_train).float().reshape((-1,1))\n",
    "\n",
    "for epoch in range(5000):\n",
    "    # Forward pass\n",
    "    y_pred = model(X)\n",
    "    # Compute Loss\n",
    "    loss = criterion(y_pred, y)\n",
    "    # Backward pass\n",
    "    loss.backward()\n",
    "    optimizer.step()\n",
    "    \n",
    "    output = np.array((y_pred.squeeze()>0.5).float())\n",
    "    correct = (output == y_train).sum()\n",
    "    if perfect_iter is None and correct == len(y_train):\n",
    "        perfect_iter = epoch+1\n",
    "    \n",
    "    if (epoch + 1) % 500 == 0:\n",
    "#         print(output)\n",
    "        print(loss.item())\n",
    "        print(f'Accuracy {correct}/{len(y_train)}')\n",
    "        \n",
    "print(f'Perfect iteration: {perfect_iter}')"
   ]
  },
  {
   "cell_type": "code",
   "execution_count": 24,
   "metadata": {},
   "outputs": [
    {
     "data": {
      "text/plain": [
       "'rnn_torchviz.pdf'"
      ]
     },
     "execution_count": 24,
     "metadata": {},
     "output_type": "execute_result"
    }
   ],
   "source": [
    "make_dot(model(X)).render(\"rnn_torchviz\", format=\"pdf\")"
   ]
  },
  {
   "cell_type": "code",
   "execution_count": 164,
   "metadata": {},
   "outputs": [
    {
     "name": "stdout",
     "output_type": "stream",
     "text": [
      "tensor([[[ 3.9904, -6.2705,  3.9213, -5.3145]]])\n"
     ]
    }
   ],
   "source": [
    "print(model.conv_layer.weight.data)"
   ]
  },
  {
   "cell_type": "code",
   "execution_count": 165,
   "metadata": {},
   "outputs": [
    {
     "name": "stdout",
     "output_type": "stream",
     "text": [
      "[0. 1. 0. 0. 0. 1. 0. 0. 1. 0. 0. 1. 1. 0. 0. 0. 1. 0. 0. 0. 0. 0. 0. 1.\n",
      " 0. 0. 0. 0. 0. 1. 1. 0. 0. 0. 1. 0. 1. 1. 0. 1. 0. 0. 1. 1. 1. 0. 0. 0.\n",
      " 0. 0. 0. 0. 0. 0. 1. 0. 0. 1. 0. 0. 0. 0. 0. 0. 0. 0. 0. 0. 1. 1. 1. 0.\n",
      " 0. 0. 0. 0. 0. 0. 1. 1. 0. 0. 0. 0. 1. 0. 0. 0. 0. 0. 1. 0. 0. 0. 0. 0.\n",
      " 0. 0. 0. 0. 0. 0. 0. 0. 0. 0. 0. 0. 0. 0. 0. 0. 0. 0. 1. 0. 1. 0. 1. 1.\n",
      " 0. 0. 1. 0. 0. 0. 1. 1. 0. 1. 0. 0. 1. 0. 1. 0. 0. 1. 0. 1. 1. 1. 1. 0.\n",
      " 0. 1. 0. 0. 0. 0. 0. 0. 0. 0. 0. 0. 0. 0. 0. 0. 1. 0. 0. 0. 1. 0. 1. 0.\n",
      " 0. 0. 0. 0. 0. 0. 0. 0. 0. 1. 1. 0. 0. 0. 0. 1. 0. 0. 1. 1. 0. 0. 0. 1.\n",
      " 0. 0. 0. 1. 1. 0. 0. 0. 1. 0. 0.]\n",
      "Accuracy 203/203\n"
     ]
    }
   ],
   "source": [
    "X_t = torch.tensor(X_test).float()\n",
    "y_t = torch.tensor(y_test).float().reshape((-1,1))\n",
    "\n",
    "y_pred = model(X_t)\n",
    "output = np.array((y_pred.squeeze()>0.5).float())\n",
    "correct = (output == y_test).sum()\n",
    "\n",
    "if perfect_iter is None and correct == len(y_test):\n",
    "    perfect_iter = epoch+1\n",
    "\n",
    "print(output)\n",
    "print(f'Accuracy {correct}/{len(y_train)}')"
   ]
  },
  {
   "cell_type": "code",
   "execution_count": null,
   "metadata": {},
   "outputs": [],
   "source": []
  }
 ],
 "metadata": {
  "kernelspec": {
   "display_name": "bakalarka",
   "language": "python",
   "name": "bakalarka"
  },
  "language_info": {
   "codemirror_mode": {
    "name": "ipython",
    "version": 3
   },
   "file_extension": ".py",
   "mimetype": "text/x-python",
   "name": "python",
   "nbconvert_exporter": "python",
   "pygments_lexer": "ipython3",
   "version": "3.8.5"
  }
 },
 "nbformat": 4,
 "nbformat_minor": 4
}
