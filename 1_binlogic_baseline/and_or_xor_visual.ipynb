{
 "cells": [
  {
   "cell_type": "markdown",
   "metadata": {},
   "source": [
    "# Visualizations For Logic Functions"
   ]
  },
  {
   "cell_type": "code",
   "execution_count": 3,
   "metadata": {},
   "outputs": [
    {
     "name": "stdout",
     "output_type": "stream",
     "text": [
      "The autoreload extension is already loaded. To reload it, use:\n",
      "  %reload_ext autoreload\n"
     ]
    }
   ],
   "source": [
    "%load_ext autoreload\n",
    "%autoreload 2\n",
    "#%matplotlib qt\n",
    "import numpy as np\n",
    "from matplotlib import rc\n",
    "# activate latex text rendering\n",
    "rc('text', usetex=True)\n",
    "import matplotlib\n",
    "# matplotlib.use('QT5Agg')\n",
    "matplotlib.use(\"pgf\")\n",
    "matplotlib.rcParams.update({\n",
    "    \"pgf.texsystem\": \"pdflatex\",\n",
    "    'font.family': 'serif',\n",
    "    'font.size' : 11,\n",
    "    'text.usetex': True,\n",
    "    'pgf.rcfonts': False,\n",
    "    'axes.unicode_minus': False,\n",
    "})\n",
    "matplotlib.rcParams['text.latex.preamble'] = r'\\DeclareUnicodeCharacter{2212}{-}' #for \\text command\n",
    "\n",
    "import matplotlib.pyplot as plt\n",
    "\n",
    "import pandas as pd\n",
    "import seaborn as sns\n",
    "\n",
    "from neural_net import *\n",
    "from weight_init import *\n",
    "from vis_err_space import *"
   ]
  },
  {
   "cell_type": "markdown",
   "metadata": {},
   "source": [
    "## Data"
   ]
  },
  {
   "cell_type": "code",
   "execution_count": 2,
   "metadata": {},
   "outputs": [],
   "source": [
    "df = pd.DataFrame({'x': [0,1,0,1], 'y': [0,0,1,1], 'AND': [0,0,0,1], 'OR': [0,1,1,1], 'XOR': [0,1,1,0]})\n",
    "sns.set_theme(style=\"ticks\")"
   ]
  },
  {
   "cell_type": "markdown",
   "metadata": {},
   "source": [
    "## Feature Spaces"
   ]
  },
  {
   "cell_type": "markdown",
   "metadata": {},
   "source": [
    "### AND"
   ]
  },
  {
   "cell_type": "code",
   "execution_count": 60,
   "metadata": {},
   "outputs": [
    {
     "data": {
      "image/png": "[encoded data removed]",
      "text/plain": [
       "<Figure size 432x288 with 1 Axes>"
      ]
     },
     "metadata": {},
     "output_type": "display_data"
    }
   ],
   "source": [
    "fig, ax = plt.subplots()\n",
    "sns.scatterplot(data=df, x='x', y='y', hue='AND', s=100, palette='seismic')\n",
    "plt.grid(True, which='both')\n",
    "plt.plot([0.4, 1.1], [1.1, 0.4], linewidth=2, color='g')\n",
    "ax.set_xlim(xmin=-0.05, xmax=1.05)\n",
    "ax.set_ylim(ymin=-0.05, ymax=1.05)\n",
    "ax.set_aspect('equal')\n",
    "# plt.savefig('imgs/and/AND_feature_space', dpi=300)\n",
    "plt.savefig('imgs/AND/AND_feature_space.pgf')"
   ]
  },
  {
   "cell_type": "markdown",
   "metadata": {},
   "source": [
    "### OR"
   ]
  },
  {
   "cell_type": "code",
   "execution_count": 61,
   "metadata": {},
   "outputs": [
    {
     "data": {
      "image/png": "[encoded data removed]",
      "text/plain": [
       "<Figure size 432x288 with 1 Axes>"
      ]
     },
     "metadata": {},
     "output_type": "display_data"
    }
   ],
   "source": [
    "fig, ax = plt.subplots()\n",
    "sns.scatterplot(data=df, x='x', y='y', hue='OR', s=100, palette='seismic')\n",
    "plt.grid(True, which='both')\n",
    "plt.plot([-0.1, 0.6], [0.6, -0.1], linewidth=2, color='g')\n",
    "ax.set_xlim(xmin=-0.05, xmax=1.05)\n",
    "ax.set_ylim(ymin=-0.05, ymax=1.05)\n",
    "ax.set_aspect('equal')\n",
    "plt.savefig('imgs/OR/OR_feature_space.pgf')"
   ]
  },
  {
   "cell_type": "markdown",
   "metadata": {},
   "source": [
    "### XOR"
   ]
  },
  {
   "cell_type": "code",
   "execution_count": 62,
   "metadata": {},
   "outputs": [
    {
     "data": {
      "image/png": "[encoded data removed]",
      "text/plain": [
       "<Figure size 432x288 with 1 Axes>"
      ]
     },
     "metadata": {},
     "output_type": "display_data"
    }
   ],
   "source": [
    "fig, ax = plt.subplots()\n",
    "sns.scatterplot(data=df, x='x', y='y', hue='XOR', s=100, palette='seismic')\n",
    "plt.grid(True, which='both')\n",
    "plt.plot([0.4, 1.1], [1.1, 0.4], linewidth=2, color='g')\n",
    "plt.plot([-0.1, 0.6], [0.6, -0.1], linewidth=2, color='g')\n",
    "ax.set_xlim(xmin=-0.05, xmax=1.05)\n",
    "ax.set_ylim(ymin=-0.05, ymax=1.05)\n",
    "ax.set_aspect('equal')\n",
    "plt.savefig('imgs/XOR/XOR_feature_space.pgf')"
   ]
  },
  {
   "cell_type": "markdown",
   "metadata": {},
   "source": [
    "## Converged Weights"
   ]
  },
  {
   "cell_type": "markdown",
   "metadata": {},
   "source": [
    "### AND"
   ]
  },
  {
   "cell_type": "code",
   "execution_count": 25,
   "metadata": {},
   "outputs": [],
   "source": [
    "X = np.transpose(np.array([[0, 0], [0, 1], [1, 0], [1, 1]]))\n",
    "Y = np.array([[0, 0, 0, 1]])"
   ]
  },
  {
   "cell_type": "code",
   "execution_count": 26,
   "metadata": {
    "scrolled": true
   },
   "outputs": [],
   "source": [
    "misclassificationsAND = []\n",
    "final_weightsAND = []\n",
    "dim_list = [2,1]\n",
    "weight_combs = init_weight_grid(dim_list, -1, 1, 10)"
   ]
  },
  {
   "cell_type": "code",
   "execution_count": null,
   "metadata": {
    "scrolled": true
   },
   "outputs": [],
   "source": [
    "for i, weights in enumerate(weight_combs):\n",
    "    print(f'Combination {i+1}/{len(weight_combs)}')\n",
    "    nn = MyNetwork(dim_list, weights=weights)\n",
    "    _, _, misclass = nn.fit(X, Y, learning_rate=0.1, num_iterations=10000, print_cost=False, plot_costs=False)\n",
    "    misclassificationsAND.append(misclass)\n",
    "    \n",
    "    final_params = nn.parameters\n",
    "    display(final_params)\n",
    "    final_weights = []\n",
    "    for l in range(len(dim_list)-1):\n",
    "        final_weights.append(np.concatenate((final_params['W' + str(l+1)], final_params['b' + str(l+1)]), axis=1))\n",
    "    final_weightsAND.append(final_weights)\n",
    "\n",
    "print(f'Overall NR of Misclassification of 10000 models: {np.sum(misclassificationsAND)*4}')\n",
    "\n",
    "np.savez('AND_weights_misclass_better.npz', fw=final_weightsAND, mc=misclassificationsAND)"
   ]
  },
  {
   "cell_type": "code",
   "execution_count": 27,
   "metadata": {},
   "outputs": [],
   "source": [
    "data = np.load('AND_weights_misclass_better.npz')\n",
    "final_weights = data['fw']"
   ]
  },
  {
   "cell_type": "code",
   "execution_count": 29,
   "metadata": {},
   "outputs": [],
   "source": [
    "# visualize_3D_err_space(X, Y, final_weights, act_function='relu', biases=False, name='AND', xyzlabel=('$w_1$', '$w_2$', 'Loss'), zlabelpad=10)\n",
    "visualize_3D_err_space_all_possibilities(X, Y, dim_list, 20, act_function='relu', biases=True, sym_dim=[1,1], sym_weights=[[{1:0}]], name='AND', xyzlabel=('$w_1 = w_2$', 'bias', 'Loss'))"
   ]
  },
  {
   "cell_type": "code",
   "execution_count": 86,
   "metadata": {},
   "outputs": [
    {
     "name": "stdout",
     "output_type": "stream",
     "text": [
      "[[  7.40517671   7.40517671 -11.2803921 ]\n",
      " [  7.40671211   7.40671199 -11.28269167]\n",
      " [  7.40828382   7.40828356 -11.28504559]\n",
      " ...\n",
      " [  7.41361548   7.41361574 -11.29303152]\n",
      " [  7.41524798   7.41524811 -11.29547652]\n",
      " [  7.41694477   7.41694477 -11.29801782]]\n"
     ]
    },
    {
     "data": {
      "image/png": "[encoded data removed]",
      "text/plain": [
       "<Figure size 432x288 with 1 Axes>"
      ]
     },
     "metadata": {},
     "output_type": "display_data"
    },
    {
     "data": {
      "image/png": "[encoded data removed]",
      "text/plain": [
       "<Figure size 432x288 with 1 Axes>"
      ]
     },
     "metadata": {},
     "output_type": "display_data"
    }
   ],
   "source": [
    "visualize_weights3D(final_weights, name='AND')\n",
    "visualize_weights2D(final_weights, name='AND')"
   ]
  },
  {
   "cell_type": "code",
   "execution_count": null,
   "metadata": {},
   "outputs": [],
   "source": []
  },
  {
   "cell_type": "markdown",
   "metadata": {},
   "source": [
    "### OR"
   ]
  },
  {
   "cell_type": "code",
   "execution_count": 30,
   "metadata": {},
   "outputs": [],
   "source": [
    "X = np.transpose(np.array([[0, 0], [0, 1], [1, 0], [1, 1]]))\n",
    "Y = np.array([[0, 1, 1, 1]])"
   ]
  },
  {
   "cell_type": "code",
   "execution_count": 31,
   "metadata": {
    "scrolled": true
   },
   "outputs": [],
   "source": [
    "misclassificationsOR = []\n",
    "final_weightsOR = []\n",
    "dim_list = [2,1]\n",
    "weight_combs = init_weight_grid(dim_list, -1, 1, 10)"
   ]
  },
  {
   "cell_type": "code",
   "execution_count": null,
   "metadata": {
    "scrolled": true
   },
   "outputs": [],
   "source": [
    "for i, weights in enumerate(weight_combs):\n",
    "    print(f'Combination {i+1}/{len(weight_combs)}')\n",
    "    nn = MyNetwork(dim_list, weights=weights)\n",
    "    _, _, misclass = nn.fit(X, Y, learning_rate=0.1, num_iterations=10000, print_cost=False, plot_costs=False)\n",
    "    misclassificationsOR.append(misclass)\n",
    "    \n",
    "    final_params = nn.parameters\n",
    "    display(final_params)\n",
    "    final_weights = []\n",
    "    for l in range(len(dim_list)-1):\n",
    "        final_weights.append(np.concatenate((final_params['W' + str(l+1)], final_params['b' + str(l+1)]), axis=1))\n",
    "    final_weightsOR.append(final_weights)\n",
    "\n",
    "print(f'Overall NR of Misclassification of 10000 models: {np.sum(misclassificationsOR)*4}')\n",
    "\n",
    "np.savez('OR_weights_misclass_better.npz', fw=final_weightsOR, mc=misclassificationsOR)"
   ]
  },
  {
   "cell_type": "code",
   "execution_count": 32,
   "metadata": {},
   "outputs": [],
   "source": [
    "data = np.load('OR_weights_misclass_better.npz')\n",
    "final_weights = data['fw']"
   ]
  },
  {
   "cell_type": "code",
   "execution_count": 33,
   "metadata": {},
   "outputs": [],
   "source": [
    "# visualize_3D_err_space(X, Y, final_weights, act_function='relu', biases=False, name='OR', xyzlabel=('$w_1$', '$w_2$', 'Loss'), zlabelpad=10)\n",
    "visualize_3D_err_space_all_possibilities(X, Y, dim_list, 20, act_function='relu', biases=True, sym_dim=[1,1], sym_weights=[[{1:0}]], name='OR', xyzlabel=('$w_1 = w_2$', 'bias', 'Loss'))"
   ]
  },
  {
   "cell_type": "code",
   "execution_count": 116,
   "metadata": {},
   "outputs": [
    {
     "name": "stdout",
     "output_type": "stream",
     "text": [
      "[[0.38374461 0.62862342 0.62862342 0.82146663]] [[0 1 1 1]]\n"
     ]
    },
    {
     "data": {
      "text/plain": [
       "0.402300892686186"
      ]
     },
     "execution_count": 116,
     "metadata": {},
     "output_type": "execute_result"
    }
   ],
   "source": [
    "compute_single_err(X, Y, np.array([[[1,1,-0.47368421]]]), act_function='relu')"
   ]
  },
  {
   "cell_type": "code",
   "execution_count": 92,
   "metadata": {},
   "outputs": [
    {
     "name": "stdout",
     "output_type": "stream",
     "text": [
      "[[ 8.65274401  8.65274401 -3.8611819 ]\n",
      " [ 8.65458097  8.65444189 -3.8620719 ]\n",
      " [ 8.65647838  8.65619194 -3.86299025]\n",
      " ...\n",
      " [ 8.66599975  8.66641309 -3.86796089]\n",
      " [ 8.66855268  8.66877073 -3.86919723]\n",
      " [ 8.67128262  8.67128262 -3.87051695]]\n"
     ]
    },
    {
     "data": {
      "image/png": "[encoded data removed]",
      "text/plain": [
       "<Figure size 432x288 with 1 Axes>"
      ]
     },
     "metadata": {},
     "output_type": "display_data"
    },
    {
     "data": {
      "image/png": "[encoded data removed]",
      "text/plain": [
       "<Figure size 432x288 with 1 Axes>"
      ]
     },
     "metadata": {},
     "output_type": "display_data"
    }
   ],
   "source": [
    "visualize_weights3D(final_weights, name='OR')\n",
    "visualize_weights2D(final_weights, name='OR')"
   ]
  },
  {
   "cell_type": "markdown",
   "metadata": {},
   "source": [
    "### XOR"
   ]
  },
  {
   "cell_type": "markdown",
   "metadata": {},
   "source": [
    "#### Error Space"
   ]
  },
  {
   "cell_type": "code",
   "execution_count": 3,
   "metadata": {},
   "outputs": [],
   "source": [
    "xor_data = np.load('XOR_error_space.npz')\n",
    "\n",
    "flattened_weights = xor_data['flat']\n",
    "entropies = xor_data['cross']"
   ]
  },
  {
   "cell_type": "code",
   "execution_count": 4,
   "metadata": {},
   "outputs": [],
   "source": [
    "from sklearn.manifold import LocallyLinearEmbedding\n",
    "from sklearn.decomposition import PCA\n",
    "from sklearn.decomposition import IncrementalPCA\n",
    "from sklearn.decomposition import KernelPCA\n",
    "from sklearn.decomposition import SparsePCA\n",
    "from sklearn.manifold import MDS\n",
    "from sklearn.manifold import Isomap\n",
    "from sklearn.manifold import TSNE\n",
    "from sklearn.decomposition import TruncatedSVD\n",
    "from sklearn.random_projection import GaussianRandomProjection\n",
    "from sklearn.decomposition import FastICA\n",
    "from sklearn.decomposition import MiniBatchDictionaryLearning\n",
    "from sklearn.random_projection import SparseRandomProjection"
   ]
  },
  {
   "cell_type": "code",
   "execution_count": null,
   "metadata": {},
   "outputs": [],
   "source": [
    "# pca = PCA(n_components=2)\n",
    "# weights_pca = pca.fit_transform(flattened_weights)\n",
    "\n",
    "# tsne = TSNE(n_components=2, learning_rate=300, perplexity=30, early_exaggeration=12, init='random', random_state=2019)\n",
    "# weights_tsne = tsne.fit_transform(flattened_weights)\n",
    "\n",
    "# lle = LocallyLinearEmbedding(n_components=2, n_neighbors=10, method = 'modified', n_jobs=1,  random_state=2019)\n",
    "# lle.fit(flattened_weights[::100])\n",
    "# weights_lle = lle.transform(flattened_weights)\n",
    "\n",
    "# np.savez('XOR_error_reduced.npz', pca=weights_pca, tsne=weights_tsne, lle=weights_lle)"
   ]
  },
  {
   "cell_type": "code",
   "execution_count": 5,
   "metadata": {},
   "outputs": [
    {
     "ename": "NameError",
     "evalue": "name 'weights_lle' is not defined",
     "output_type": "error",
     "traceback": [
      "\u001b[1;31m---------------------------------------------------------------------------\u001b[0m",
      "\u001b[1;31mNameError\u001b[0m                                 Traceback (most recent call last)",
      "\u001b[1;32m<ipython-input-5-c2f29a0ba423>\u001b[0m in \u001b[0;36m<module>\u001b[1;34m\u001b[0m\n\u001b[1;32m----> 1\u001b[1;33m \u001b[0mweights\u001b[0m \u001b[1;33m=\u001b[0m \u001b[0mweights_lle\u001b[0m\u001b[1;33m\u001b[0m\u001b[1;33m\u001b[0m\u001b[0m\n\u001b[0m\u001b[0;32m      2\u001b[0m \u001b[0mc1s\u001b[0m \u001b[1;33m=\u001b[0m \u001b[0mweights\u001b[0m\u001b[1;33m[\u001b[0m\u001b[1;33m:\u001b[0m\u001b[1;33m,\u001b[0m\u001b[1;36m0\u001b[0m\u001b[1;33m]\u001b[0m\u001b[1;33m\u001b[0m\u001b[1;33m\u001b[0m\u001b[0m\n\u001b[0;32m      3\u001b[0m \u001b[0mc2s\u001b[0m \u001b[1;33m=\u001b[0m \u001b[0mweights\u001b[0m\u001b[1;33m[\u001b[0m\u001b[1;33m:\u001b[0m\u001b[1;33m,\u001b[0m\u001b[1;36m1\u001b[0m\u001b[1;33m]\u001b[0m\u001b[1;33m\u001b[0m\u001b[1;33m\u001b[0m\u001b[0m\n\u001b[0;32m      4\u001b[0m \u001b[1;33m\u001b[0m\u001b[0m\n\u001b[0;32m      5\u001b[0m \u001b[0mdf\u001b[0m \u001b[1;33m=\u001b[0m \u001b[0mpd\u001b[0m\u001b[1;33m.\u001b[0m\u001b[0mDataFrame\u001b[0m\u001b[1;33m(\u001b[0m\u001b[0mweights\u001b[0m\u001b[1;33m,\u001b[0m \u001b[0mcolumns\u001b[0m\u001b[1;33m=\u001b[0m\u001b[1;33m[\u001b[0m\u001b[1;34m'c1'\u001b[0m\u001b[1;33m,\u001b[0m \u001b[1;34m'c2'\u001b[0m\u001b[1;33m]\u001b[0m\u001b[1;33m)\u001b[0m\u001b[1;33m\u001b[0m\u001b[1;33m\u001b[0m\u001b[0m\n",
      "\u001b[1;31mNameError\u001b[0m: name 'weights_lle' is not defined"
     ]
    }
   ],
   "source": [
    "np.load('XOR_error_reduced')\n",
    "weights = weights_lle\n",
    "c1s = weights[:,0]\n",
    "c2s = weights[:,1]\n",
    "\n",
    "df = pd.DataFrame(weights, columns=['c1', 'c2'])\n",
    "df['Loss'] = entropies\n",
    "print(df.shape)\n",
    "df = df.groupby(['c1', 'c2'])['Loss'].mean().reset_index()\n",
    "print(df.shape)\n",
    "\n",
    "df = df.sort_values(by=['c1'])\n",
    "df = df.iloc[::100, :]\n"
   ]
  },
  {
   "cell_type": "code",
   "execution_count": 115,
   "metadata": {},
   "outputs": [],
   "source": [
    "fig = plt.figure()\n",
    "ax = fig.add_subplot(111, projection='3d')\n",
    "\n",
    "# ax.scatter(df['c1'], df['c2'], df['Loss'], s=5)\n",
    "ax.plot_trisurf(df['c1'], df['c2'], df['Loss'], linewidth=0.2, antialiased=True)\n",
    "\n",
    "ax.set_xlabel('$c_1$')\n",
    "ax.set_ylabel('$c_2$')\n",
    "ax.set_zlabel('Loss', labelpad=10)\n",
    "\n",
    "# plt.show()\n",
    "plt.savefig(f'imgs/XOR/XOR_3D_error_space_all_weights.pgf')\n",
    "# plt.savefig(f'imgs/XOR/XOR_3D_error_space_all_weights.png')"
   ]
  },
  {
   "cell_type": "code",
   "execution_count": 111,
   "metadata": {},
   "outputs": [],
   "source": [
    "plt.close()\n",
    "plt.cla()\n",
    "plt.clf()"
   ]
  },
  {
   "cell_type": "markdown",
   "metadata": {},
   "source": [
    "#### Converged Weights"
   ]
  },
  {
   "cell_type": "code",
   "execution_count": 4,
   "metadata": {},
   "outputs": [],
   "source": [
    "xor_data = np.load('XOR_grid_adam.npz', allow_pickle=True)\n",
    "\n",
    "weight = xor_data['fw']\n",
    "misclassificationsXOR = xor_data['mc']\n",
    "entropiesXOR = xor_data['ent']"
   ]
  },
  {
   "cell_type": "code",
   "execution_count": 5,
   "metadata": {},
   "outputs": [
    {
     "data": {
      "text/plain": [
       "(1000000, 2)"
      ]
     },
     "metadata": {},
     "output_type": "display_data"
    },
    {
     "data": {
      "text/plain": [
       "(1000000,)"
      ]
     },
     "metadata": {},
     "output_type": "display_data"
    },
    {
     "data": {
      "text/plain": [
       "(1000000,)"
      ]
     },
     "metadata": {},
     "output_type": "display_data"
    }
   ],
   "source": [
    "display(final_weightsXOR.shape)\n",
    "display(misclassificationsXOR.shape)\n",
    "display(entropiesXOR.shape)"
   ]
  },
  {
   "cell_type": "code",
   "execution_count": 24,
   "metadata": {},
   "outputs": [],
   "source": [
    "import math\n",
    "def sigmoid(x):\n",
    "    return 1 / (1 + np.exp(-x))\n",
    "\n",
    "perfect_weights = final_weightsXOR[misclassificationsXOR == 0]\n",
    "# print(perfect_weights[0])"
   ]
  },
  {
   "cell_type": "code",
   "execution_count": 25,
   "metadata": {},
   "outputs": [],
   "source": [
    "predictions = []\n",
    "prediction_hashes = []\n",
    "hashes_dict = {}\n",
    "\n",
    "X = np.array([[0,0],[0,1],[1,0],[1,1]]).T\n",
    "for weight in perfect_weights:\n",
    "    first = linear_forward(X, weight[0][:,:2], weight[0][:,2])[0]\n",
    "    sig_first = sigmoid(first)\n",
    "    first_pred = sig_first > 0.5\n",
    "    second = linear_forward(X, weight[1][:,:2], weight[1][:,2])[0]\n",
    "    sig_second = sigmoid(second)\n",
    "    second_pred = sig_second > 0.5\n",
    "    \n",
    "    pred = np.concatenate((first_pred, second_pred))\n",
    "    predictions.append(pred)\n",
    "    hash_arr = (hash(pred[0].tobytes()), hash(pred[1].tobytes()), hash(pred[2].tobytes()))\n",
    "    inv_hash_arr = (hash(pred[1].tobytes()), hash(pred[0].tobytes()), hash(pred[2].tobytes()))\n",
    "    if hash_arr not in hashes_dict:\n",
    "        hashes_dict[hash_arr] = pred\n",
    "    if inv_hash_arr not in hashes_dict:\n",
    "        hashes_dict[inv_hash_arr] = pred\n",
    "    prediction_hashes.append(hash_arr)"
   ]
  },
  {
   "cell_type": "code",
   "execution_count": 26,
   "metadata": {},
   "outputs": [
    {
     "name": "stdout",
     "output_type": "stream",
     "text": [
      "Nr of unique combinations: 16\n",
      "[[False False  True False]\n",
      " [ True False  True  True]\n",
      " [ True False  True  True]]\n",
      "60441 10.56%\n",
      "[[False  True False False]\n",
      " [ True  True False  True]\n",
      " [ True False  True  True]]\n",
      "60441 10.56%\n",
      "[[ True False  True  True]\n",
      " [False False  True False]\n",
      " [ True  True False  True]]\n",
      "60441 10.56%\n",
      "[[ True  True False  True]\n",
      " [False  True False False]\n",
      " [ True  True False  True]]\n",
      "60441 10.56%\n",
      "[[False  True False False]\n",
      " [False False  True False]\n",
      " [False  True  True  True]]\n",
      "51957 9.08%\n",
      "[[False  True False False]\n",
      " [False False  True False]\n",
      " [False  True  True  True]]\n",
      "51957 9.08%\n",
      "[[False False False  True]\n",
      " [ True False False False]\n",
      " [ True False False False]]\n",
      "44377 7.76%\n",
      "[[False False False  True]\n",
      " [ True False False False]\n",
      " [ True False False False]]\n",
      "44376 7.76%\n",
      "[[ True False False False]\n",
      " [ True  True  True False]\n",
      " [False  True False False]]\n",
      "37705 6.59%\n",
      "[[ True  True  True False]\n",
      " [ True False False False]\n",
      " [False False  True False]]\n",
      "37705 6.59%\n",
      "[[False  True  True  True]\n",
      " [False False False  True]\n",
      " [False False  True False]]\n",
      "29396 5.14%\n",
      "[[False False False  True]\n",
      " [False  True  True  True]\n",
      " [False  True False False]]\n",
      "29396 5.14%\n",
      "[[ True  True False  True]\n",
      " [ True False  True  True]\n",
      " [ True  True  True False]]\n",
      "1372 0.24%\n",
      "[[ True  True False  True]\n",
      " [ True False  True  True]\n",
      " [ True  True  True False]]\n",
      "1372 0.24%\n",
      "[[ True  True  True False]\n",
      " [False  True  True  True]\n",
      " [False False False  True]]\n",
      "415 0.07%\n",
      "[[ True  True  True False]\n",
      " [False  True  True  True]\n",
      " [False False False  True]]\n",
      "415 0.07%\n",
      "total right: 572207\n"
     ]
    }
   ],
   "source": [
    "hashes = np.array(prediction_hashes)\n",
    "# hashes[:,:2] = np.sort(hashes[:,:2], axis=1)\n",
    "unique_hashes = np.unique(hashes, axis=0)\n",
    "print('Nr of unique combinations:', len(unique_hashes))\n",
    "\n",
    "comb_occ = []\n",
    "for uhash in unique_hashes:\n",
    "    is_uhash = list(map(lambda x: all(x == uhash), hashes))\n",
    "    comb_occ.append((np.array(is_uhash).sum(), hashes_dict[tuple(uhash)]))\n",
    "#     print('Combination:')\n",
    "#     print(hashes_dict[tuple(uhash)])\n",
    "#     print('Number of occurences:')\n",
    "#     print(np.array(is_uhash).sum(), \"{:.2f}%\".format(100 * np.array(is_uhash).sum() / len(hashes)))\n",
    "\n",
    "count = 0\n",
    "for nr, comb in sorted(comb_occ, reverse=True, key=lambda x: x[0])[:16]:\n",
    "    count += nr\n",
    "    print(comb)\n",
    "    print(nr, \"{:.2f}%\".format(100 * nr / len(hashes)))\n",
    "print('total right:', count)"
   ]
  },
  {
   "cell_type": "code",
   "execution_count": 8,
   "metadata": {},
   "outputs": [
    {
     "name": "stdout",
     "output_type": "stream",
     "text": [
      "152136 47177 152136 117079 32414 269215\n"
     ]
    }
   ],
   "source": [
    "# examples_nand_or_and = []\n",
    "# counter_non = 0\n",
    "# counter_nonnon = 0\n",
    "# counter_zero = 0\n",
    "# counter_lol = 0\n",
    "# counter_lollol = 0\n",
    "# examples_other = []\n",
    "\n",
    "# for weights in perfect_weights:\n",
    "# #     if ((weights[1][0,0] > 0) and (weights[1][0,1] > 0) and (-weights[1][0,2] > weights[1][0,0]) and (-weights[1][0,2] > weights[1][0,1]) \\\n",
    "# #         and (weights[0][0,0] > 0) and (weights[0][0,1] > 0) and (0 > -weights[0][0,2] < weights[0][0,0]) and (0 > -weights[0][0,2] > weights[0][0,1]) \\\n",
    "# #         and (weights[0][1,0] < 0) and (weights[0][1,1] < 0) and (weights[0][1,2] > -weights[0][1,0]) and (weights[0][1,2] > -weights[0][1,1])) \\\n",
    "# #         or ((weights[1][0,0] > 0) and (weights[1][0,1] > 0) and (-weights[1][0,2] > weights[1][0,0]) and (-weights[1][0,2] > weights[1][0,1]) \\\n",
    "# #         and (weights[0][1,0] > 0) and (weights[0][1,1] > 0) and (0 > -weights[0][1,2] < weights[0][1,0]) and (0 > -weights[0][1,2] > weights[0][1,1]) \\\n",
    "# #         and (weights[0][0,0] < 0) and (weights[0][0,1] < 0) and (weights[0][0,2] > -weights[0][0,0]) and (weights[0][0,2] > -weights[0][0,1])):\n",
    "# #         examples_nand_or_and.append(weights)\n",
    "#     if (((weights[0][0,0] > 0) and (weights[0][0,1] < 0)) or ((weights[0][0,0] < 0) and (weights[0][0,1] > 0))) \\\n",
    "#         or (((weights[0][1,0] > 0) and (weights[0][1,1] < 0)) or ((weights[0][1,0] < 0) and (weights[0][1,1] > 0))):\n",
    "#         counter_non += 1\n",
    "#         if (((weights[1][0,0] > 0) and (weights[1][0,1] > 0)) or ((weights[1][0,0] < 0) and (weights[1][0,1] < 0))):\n",
    "#             counter_nonnon+=1\n",
    "#     if (((weights[0][0,0] >= 0) and (weights[0][0,1] <= 0)) or ((weights[0][0,0] <= 0) and (weights[0][0,1] >= 0))) \\\n",
    "#         or (((weights[0][1,0] >= 0) and (weights[0][1,1] <= 0)) or ((weights[0][1,0] <= 0) and (weights[0][1,1] >= 0))):\n",
    "#         counter_zero += 1\n",
    "#     if (((weights[0][0,0] > 0) and (weights[0][0,1] > 0)) or ((weights[0][0,0] < 0) and (weights[0][0,1] < 0))) \\\n",
    "#         and (((weights[0][1,0] > 0) and (weights[0][1,1] > 0)) or ((weights[0][1,0] < 0) and (weights[0][1,1] < 0))):\n",
    "#         counter_lol += 1\n",
    "#         examples_other.append(weights)\n",
    "#         if (((weights[1][0,0] > 0) and (weights[1][0,1] > 0)) or ((weights[1][0,0] < 0) and (weights[1][0,1] < 0))):\n",
    "#             counter_lollol+=1\n",
    "#             examples_nand_or_and.append(weights)\n",
    "            \n",
    "        \n",
    "\n",
    "# print(counter_non, counter_nonnon, counter_zero, counter_lol, counter_lollol, len(perfect_weights))\n",
    "# # print(examples_other[0])\n",
    "# # print(examples_nand_or_and[0])"
   ]
  },
  {
   "cell_type": "code",
   "execution_count": 7,
   "metadata": {},
   "outputs": [],
   "source": [
    "weightsXOR = []\n",
    "for i, arr in enumerate(final_weightsXOR):\n",
    "    flat_list = []\n",
    "    for sublist in arr:\n",
    "        for item in sublist:\n",
    "            flat_list.append(item)\n",
    "    flat_list = np.array(flat_list).flatten()\n",
    "    weightsXOR.append(flat_list)\n",
    "weightsXOR = np.array(weightsXOR)"
   ]
  },
  {
   "cell_type": "code",
   "execution_count": 8,
   "metadata": {},
   "outputs": [
    {
     "name": "stdout",
     "output_type": "stream",
     "text": [
      "(1000000, 9) [-9.23304749 -9.23304749  0.69825923 -9.23304749 -9.23304749  0.69825923\n",
      " -6.07059336 -6.07059336  0.69383508]\n"
     ]
    }
   ],
   "source": [
    "print(weightsXOR.shape, weightsXOR[0])"
   ]
  },
  {
   "cell_type": "code",
   "execution_count": 9,
   "metadata": {},
   "outputs": [],
   "source": [
    "from sklearn.decomposition import PCA\n",
    "from sklearn.manifold import TSNE\n",
    "\n",
    "pca = PCA(n_components=2)\n",
    "weights = pca.fit_transform(weightsXOR)\n",
    "\n",
    "# tsne = TSNE(n_components=3,learning_rate=300,perplexity = 30,early_exaggeration = 12,init = 'random',  random_state=2019)\n",
    "# X_tsne = tsne.fit_transform(X_m[:10000,:])\n",
    "\n",
    "weights = np.concatenate((weights, entropiesXOR.reshape(-1, 1)), axis=1)\n",
    "weights = np.sort(weights, axis=0)[::250]\n",
    "c1s = weights[:,0]\n",
    "c2s = weights[:,1]\n",
    "c3s = weights[:,2]\n"
   ]
  },
  {
   "cell_type": "code",
   "execution_count": 10,
   "metadata": {},
   "outputs": [],
   "source": [
    "fig, ax = plt.subplots()\n",
    "ax.scatter(c1s, c2s, s=5)\n",
    "ax.set_xlabel('$c_1$')\n",
    "ax.set_ylabel('$c_2$')\n",
    "\n",
    "plt.savefig(f'imgs/XOR/XOR_error_space_converged_weights2D_adam.pgf')\n",
    "plt.close()"
   ]
  },
  {
   "cell_type": "code",
   "execution_count": 11,
   "metadata": {},
   "outputs": [],
   "source": [
    "fig = plt.figure()\n",
    "ax = fig.add_subplot(111, projection='3d')\n",
    "\n",
    "ax.scatter(c1s, c2s, c3s, s=5)\n",
    "# ax.plot_trisurf(df['c1'], df['c2'], df['Loss'], linewidth=0.2, antialiased=True)\n",
    "\n",
    "ax.set_xlabel('$c_1$')\n",
    "ax.set_ylabel('$c_2$')\n",
    "ax.set_zlabel('Loss', labelpad=10)\n",
    "\n",
    "# plt.show()\n",
    "plt.savefig(f'imgs/XOR/XOR_error_space_converged_weights3D_adam.pgf')\n",
    "# plt.savefig(f'imgs/XOR/XOR_3D_error_space_all_weights.png')\n",
    "plt.close()"
   ]
  },
  {
   "cell_type": "code",
   "execution_count": null,
   "metadata": {},
   "outputs": [],
   "source": []
  },
  {
   "cell_type": "code",
   "execution_count": null,
   "metadata": {},
   "outputs": [],
   "source": []
  },
  {
   "cell_type": "code",
   "execution_count": 42,
   "metadata": {},
   "outputs": [],
   "source": [
    "xor_data = np.load('XOR_grid_adam.npz', allow_pickle=True)\n",
    "\n",
    "final_weightsXOR = xor_data['fw']\n",
    "misclassificationsXOR = xor_data['mc']\n",
    "entropiesXOR = xor_data['ent']"
   ]
  },
  {
   "cell_type": "code",
   "execution_count": 45,
   "metadata": {},
   "outputs": [
    {
     "data": {
      "text/plain": [
       "572207"
      ]
     },
     "metadata": {},
     "output_type": "display_data"
    }
   ],
   "source": [
    "display((misclassificationsXOR==0.0).sum())"
   ]
  },
  {
   "cell_type": "code",
   "execution_count": 46,
   "metadata": {},
   "outputs": [
    {
     "data": {
      "text/plain": [
       "109699"
      ]
     },
     "metadata": {},
     "output_type": "display_data"
    }
   ],
   "source": [
    "display((misclassificationsXOR==0.25).sum())"
   ]
  },
  {
   "cell_type": "code",
   "execution_count": 47,
   "metadata": {},
   "outputs": [
    {
     "data": {
      "text/plain": [
       "318077"
      ]
     },
     "metadata": {},
     "output_type": "display_data"
    }
   ],
   "source": [
    "display((misclassificationsXOR==0.5).sum())"
   ]
  },
  {
   "cell_type": "code",
   "execution_count": 48,
   "metadata": {},
   "outputs": [
    {
     "data": {
      "text/plain": [
       "17"
      ]
     },
     "metadata": {},
     "output_type": "display_data"
    }
   ],
   "source": [
    "display((misclassificationsXOR==0.75).sum())"
   ]
  },
  {
   "cell_type": "code",
   "execution_count": 49,
   "metadata": {},
   "outputs": [
    {
     "data": {
      "text/plain": [
       "0"
      ]
     },
     "metadata": {},
     "output_type": "display_data"
    }
   ],
   "source": [
    "display((misclassificationsXOR==1.0).sum())"
   ]
  },
  {
   "cell_type": "code",
   "execution_count": null,
   "metadata": {},
   "outputs": [],
   "source": []
  },
  {
   "cell_type": "code",
   "execution_count": 3,
   "metadata": {},
   "outputs": [],
   "source": [
    "xor_data = np.load('XOR_grid_sgd_momentum.npz', allow_pickle=True)\n",
    "\n",
    "final_weightsXOR = xor_data['fw']\n",
    "misclassificationsXOR = xor_data['mc']\n",
    "entropiesXOR = xor_data['ent']"
   ]
  },
  {
   "cell_type": "code",
   "execution_count": 4,
   "metadata": {},
   "outputs": [
    {
     "data": {
      "text/plain": [
       "572207"
      ]
     },
     "metadata": {},
     "output_type": "display_data"
    }
   ],
   "source": [
    "display((misclassificationsXOR==0.0).sum())"
   ]
  },
  {
   "cell_type": "code",
   "execution_count": 5,
   "metadata": {},
   "outputs": [
    {
     "data": {
      "text/plain": [
       "109699"
      ]
     },
     "metadata": {},
     "output_type": "display_data"
    }
   ],
   "source": [
    "display((misclassificationsXOR==0.25).sum())"
   ]
  },
  {
   "cell_type": "code",
   "execution_count": 6,
   "metadata": {},
   "outputs": [
    {
     "data": {
      "text/plain": [
       "318077"
      ]
     },
     "metadata": {},
     "output_type": "display_data"
    }
   ],
   "source": [
    "display((misclassificationsXOR==0.5).sum())"
   ]
  },
  {
   "cell_type": "code",
   "execution_count": 7,
   "metadata": {},
   "outputs": [
    {
     "data": {
      "text/plain": [
       "17"
      ]
     },
     "metadata": {},
     "output_type": "display_data"
    }
   ],
   "source": [
    "display((misclassificationsXOR==0.75).sum())"
   ]
  },
  {
   "cell_type": "code",
   "execution_count": 8,
   "metadata": {},
   "outputs": [
    {
     "data": {
      "text/plain": [
       "0"
      ]
     },
     "metadata": {},
     "output_type": "display_data"
    }
   ],
   "source": [
    "display((misclassificationsXOR==1.0).sum())"
   ]
  },
  {
   "cell_type": "code",
   "execution_count": null,
   "metadata": {},
   "outputs": [],
   "source": []
  }
 ],
 "metadata": {
  "kernelspec": {
   "display_name": "bakalarka",
   "language": "python",
   "name": "bakalarka"
  },
  "language_info": {
   "codemirror_mode": {
    "name": "ipython",
    "version": 3
   },
   "file_extension": ".py",
   "mimetype": "text/x-python",
   "name": "python",
   "nbconvert_exporter": "python",
   "pygments_lexer": "ipython3",
   "version": "3.8.5"
  }
 },
 "nbformat": 4,
 "nbformat_minor": 4
}
