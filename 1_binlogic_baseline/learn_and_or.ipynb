{
 "cells": [
  {
   "cell_type": "markdown",
   "metadata": {},
   "source": [
    "# Learning AND, OR with Perceptron Using Initialization Grid"
   ]
  },
  {
   "cell_type": "code",
   "execution_count": 1,
   "metadata": {},
   "outputs": [],
   "source": [
    "%load_ext autoreload\n",
    "%autoreload 2\n",
    "#%matplotlib qt\n",
    "import numpy as np\n",
    "import matplotlib.pyplot as plt\n",
    "import pandas as pd\n",
    "import seaborn as sns\n",
    "\n",
    "from neural_net import *\n",
    "from weight_init import *\n",
    "from vis_err_space import *"
   ]
  },
  {
   "cell_type": "markdown",
   "metadata": {},
   "source": [
    "## Data"
   ]
  },
  {
   "cell_type": "code",
   "execution_count": 32,
   "metadata": {},
   "outputs": [],
   "source": [
    "df = pd.DataFrame({'x': [0,1,0,1], 'y': [0,0,1,1], 'AND': [0,0,0,1], 'OR': [0,1,1,1], 'XOE': [0,1,1,0]})"
   ]
  },
  {
   "cell_type": "code",
   "execution_count": null,
   "metadata": {},
   "outputs": [],
   "source": [
    "init_weight_grid([2,2,1], -1, 1, 3)"
   ]
  },
  {
   "cell_type": "markdown",
   "metadata": {},
   "source": [
    "# AND"
   ]
  },
  {
   "cell_type": "code",
   "execution_count": null,
   "metadata": {},
   "outputs": [],
   "source": [
    "X = np.transpose(np.array([[0, 0], [0, 1], [1, 0], [1, 1]]))\n",
    "Y = np.array([[0, 0, 0, 1]])"
   ]
  },
  {
   "cell_type": "code",
   "execution_count": null,
   "metadata": {},
   "outputs": [],
   "source": [
    "visualize_3D_err_space_all_possibilities(X, Y, [2,1], nr_of_points_in_dir=20, act_function='relu')"
   ]
  },
  {
   "cell_type": "code",
   "execution_count": 29,
   "metadata": {
    "scrolled": true
   },
   "outputs": [],
   "source": [
    "# for seed in range(20):\n",
    "#     nn = MyNetwork([2,1], seed, weight_multiplier=2, weight_addition=-1)\n",
    "#     nn.fit(X, Y, num_iterations=20000, print_cost=False)"
   ]
  },
  {
   "cell_type": "code",
   "execution_count": null,
   "metadata": {
    "scrolled": true
   },
   "outputs": [],
   "source": [
    "misclassificationsAND = []\n",
    "final_weightsAND = []\n",
    "dim_list = [2,1]\n",
    "weight_combs = init_weight_grid(dim_list, -1, 1, 20)\n",
    "for i, weights in enumerate(weight_combs):\n",
    "    print(f'Combination {i+1}/{len(weight_combs)}')\n",
    "    nn = MyNetwork(dim_list, weights=weights)\n",
    "    _, _, misclass = nn.fit(X, Y, learning_rate=0.1, num_iterations=2000, print_cost=False, plot_costs=False)\n",
    "    misclassificationsAND.append(misclass)\n",
    "    \n",
    "    final_params = nn.parameters\n",
    "    display(final_params)\n",
    "    final_weights = []\n",
    "    for l in range(len(dim_list)-1):\n",
    "        final_weights.append(np.concatenate((final_params['W' + str(l+1)], final_params['b' + str(l+1)]), axis=1))\n",
    "    final_weightsAND.append(final_weights)\n",
    "\n",
    "print(f'Overall NR of Misclassification of 1000 models: {np.sum(misclassificationsAND)*4}')"
   ]
  },
  {
   "cell_type": "code",
   "execution_count": null,
   "metadata": {},
   "outputs": [],
   "source": [
    "np.savez('AND_weights_misclass.npz', fw=final_weightsAND, mc=misclassificationsAND)"
   ]
  },
  {
   "cell_type": "code",
   "execution_count": null,
   "metadata": {},
   "outputs": [],
   "source": [
    "data = np.load('AND_weights_misclass.npz')\n",
    "final_weights = data['fw']\n",
    "visualize_3D_err_space(X, Y, final_weights, act_function='relu')"
   ]
  },
  {
   "cell_type": "code",
   "execution_count": null,
   "metadata": {},
   "outputs": [],
   "source": [
    "final_xs = "
   ]
  },
  {
   "cell_type": "markdown",
   "metadata": {},
   "source": [
    "# Logical OR (Disjunction) "
   ]
  },
  {
   "cell_type": "code",
   "execution_count": null,
   "metadata": {},
   "outputs": [],
   "source": [
    "X = np.transpose(np.array([[0, 0], [0, 1], [1, 0], [1, 1]]))\n",
    "Y = np.array([[0, 1, 1, 1]])"
   ]
  },
  {
   "cell_type": "code",
   "execution_count": null,
   "metadata": {
    "scrolled": true
   },
   "outputs": [],
   "source": [
    "for seed in range(20):\n",
    "    nn = MyNetwork([2,1], seed, weight_multiplier=2, weight_addition=-1)\n",
    "    nn.fit(X, Y, num_iterations=20000, print_cost=False)"
   ]
  },
  {
   "cell_type": "code",
   "execution_count": null,
   "metadata": {
    "scrolled": true
   },
   "outputs": [],
   "source": [
    "misclassificationsOR = []\n",
    "final_weightsOR = []\n",
    "dim_list = [2,1]\n",
    "weight_combs = init_weight_grid(dim_list, -1, 1, 20)\n",
    "for i, weights in enumerate(weight_combs):\n",
    "    print(f'Combination {i+1}/{len(weight_combs)}')\n",
    "    nn = MyNetwork(dim_list, weights=weights)\n",
    "    _, _, misclass = nn.fit(X, Y, learning_rate=0.1, num_iterations=2000, print_cost=False, plot_costs=False)\n",
    "    misclassificationsOR.append(misclass)\n",
    "    \n",
    "    final_params = nn.parameters\n",
    "    display(final_params)\n",
    "    final_weights = []\n",
    "    for l in range(len(dim_list)-1):\n",
    "        final_weights.append(np.concatenate((final_params['W' + str(l+1)], final_params['b' + str(l+1)]), axis=1))\n",
    "    final_weightsOR.append(final_weights)\n",
    "\n",
    "print(f'Overall NR of Misclassification of 1000 models: {np.sum(misclassificationsOR)*4}')"
   ]
  },
  {
   "cell_type": "code",
   "execution_count": null,
   "metadata": {},
   "outputs": [],
   "source": [
    "np.save('OR_weights_misclass.npy', (final_weightsOR, misclassificationsOR))"
   ]
  },
  {
   "cell_type": "code",
   "execution_count": null,
   "metadata": {},
   "outputs": [],
   "source": [
    "final_weights, _ = np.load('OR_weights_misclass.npy')\n",
    "visualize_3D_err_space(X, Y, final_weights, act_function='relu')"
   ]
  },
  {
   "cell_type": "code",
   "execution_count": null,
   "metadata": {},
   "outputs": [],
   "source": []
  }
 ],
 "metadata": {
  "kernelspec": {
   "display_name": "bakalarka",
   "language": "python",
   "name": "bakalarka"
  },
  "language_info": {
   "codemirror_mode": {
    "name": "ipython",
    "version": 3
   },
   "file_extension": ".py",
   "mimetype": "text/x-python",
   "name": "python",
   "nbconvert_exporter": "python",
   "pygments_lexer": "ipython3",
   "version": "3.8.5"
  }
 },
 "nbformat": 4,
 "nbformat_minor": 4
}
