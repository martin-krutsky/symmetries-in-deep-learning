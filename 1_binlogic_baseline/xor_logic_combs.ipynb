{
 "cells": [
  {
   "cell_type": "code",
   "execution_count": 1,
   "metadata": {},
   "outputs": [],
   "source": [
    "import itertools"
   ]
  },
  {
   "cell_type": "code",
   "execution_count": 11,
   "metadata": {},
   "outputs": [],
   "source": [
    "functions = list(itertools.product([0,1], repeat=4))\n",
    "functions = list(filter(lambda x: x != (0,1,1,0) and x != (1,0,0,1), functions))\n",
    "truth_table_map = {(0,0): 0, (0,1): 1, (1,0): 2, (1,1): 3}"
   ]
  },
  {
   "cell_type": "code",
   "execution_count": 15,
   "metadata": {},
   "outputs": [
    {
     "name": "stdout",
     "output_type": "stream",
     "text": [
      "(0, 0, 0, 1) (0, 1, 1, 1) (0, 1, 0, 0)\n",
      "(0, 0, 0, 1) (1, 0, 0, 0) (1, 0, 0, 0)\n",
      "(0, 0, 1, 0) (0, 1, 0, 0) (0, 1, 1, 1)\n",
      "(0, 0, 1, 0) (1, 0, 1, 1) (1, 0, 1, 1)\n",
      "(0, 1, 0, 0) (0, 0, 1, 0) (0, 1, 1, 1)\n",
      "(0, 1, 0, 0) (1, 1, 0, 1) (1, 0, 1, 1)\n",
      "(0, 1, 1, 1) (0, 0, 0, 1) (0, 0, 1, 0)\n",
      "(0, 1, 1, 1) (1, 1, 1, 0) (0, 0, 0, 1)\n",
      "(1, 0, 0, 0) (0, 0, 0, 1) (1, 0, 0, 0)\n",
      "(1, 0, 0, 0) (1, 1, 1, 0) (0, 1, 0, 0)\n",
      "(1, 0, 1, 1) (0, 0, 1, 0) (1, 1, 0, 1)\n",
      "(1, 0, 1, 1) (1, 1, 0, 1) (1, 1, 1, 0)\n",
      "(1, 1, 0, 1) (0, 1, 0, 0) (1, 1, 0, 1)\n",
      "(1, 1, 0, 1) (1, 0, 1, 1) (1, 1, 1, 0)\n",
      "(1, 1, 1, 0) (0, 1, 1, 1) (0, 0, 0, 1)\n",
      "(1, 1, 1, 0) (1, 0, 0, 0) (0, 0, 1, 0)\n",
      "16\n",
      "8 8 8\n",
      "8 4 4\n",
      "4\n"
     ]
    }
   ],
   "source": [
    "inv_first = 0\n",
    "inv_second = 0\n",
    "inv_third = 0\n",
    "\n",
    "inv_first_second = 0\n",
    "inv_first_third = 0\n",
    "inv_second_third = 0\n",
    "\n",
    "inv_all = 0\n",
    "\n",
    "count = 0\n",
    "for func1 in functions:\n",
    "    for func2 in functions:\n",
    "        for func3 in functions:\n",
    "            if list(map(lambda x: func3[truth_table_map[x]], zip(func1, func2))) == [0,1,1,0]:\n",
    "                if func1[1] == func1[2] and func2[1] == func2[2]: \n",
    "                    inv_first_second += 1\n",
    "                if func1[1] == func1[2] and func3[1] == func3[2]: \n",
    "                    inv_first_third += 1\n",
    "                if func2[1] == func2[2] and func3[1] == func3[2]: \n",
    "                    inv_second_third += 1\n",
    "                    \n",
    "                if func1[1] == func1[2] and func2[1] == func2[2] and func3[1] == func3[2]:\n",
    "                    inv_all += 1\n",
    "            \n",
    "                if func1[1] == func1[2]: \n",
    "                    inv_first += 1\n",
    "                if func2[1] == func2[2]: \n",
    "                    inv_second += 1\n",
    "                if func3[1] == func3[2]: \n",
    "                    inv_third += 1\n",
    "                \n",
    "                print(func1, func2, func3)\n",
    "                count += 1\n",
    "print(count)\n",
    "print(inv_first, inv_second, inv_third)\n",
    "print(inv_first_second, inv_first_third, inv_second_third)\n",
    "print(inv_all)"
   ]
  },
  {
   "cell_type": "code",
   "execution_count": null,
   "metadata": {},
   "outputs": [],
   "source": []
  }
 ],
 "metadata": {
  "kernelspec": {
   "display_name": "bakalarka",
   "language": "python",
   "name": "bakalarka"
  },
  "language_info": {
   "codemirror_mode": {
    "name": "ipython",
    "version": 3
   },
   "file_extension": ".py",
   "mimetype": "text/x-python",
   "name": "python",
   "nbconvert_exporter": "python",
   "pygments_lexer": "ipython3",
   "version": "3.8.5"
  }
 },
 "nbformat": 4,
 "nbformat_minor": 4
}
