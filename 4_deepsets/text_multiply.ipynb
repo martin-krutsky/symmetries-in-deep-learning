{
 "cells": [
  {
   "cell_type": "code",
   "execution_count": 48,
   "metadata": {},
   "outputs": [],
   "source": [
    "import os\n",
    "# os.environ[\"CUDA_VISIBLE_DEVICES\"] = '0'\n",
    "import matplotlib\n",
    "import numpy as np\n",
    "import tensorflow as tf\n",
    "import matplotlib.pyplot as plt\n",
    "from IPython.display import SVG\n",
    "import tensorflow.keras.backend as K\n",
    "from tensorflow.keras.layers import Input, Dense, LSTM, GRU, Embedding, Lambda\n",
    "from tensorflow.keras.models import Model, load_model\n",
    "from tensorflow.keras.optimizers import Adam\n",
    "from tensorflow.keras.callbacks import ModelCheckpoint\n",
    "from tensorflow.keras.utils import model_to_dot\n",
    "from tqdm import tqdm,trange"
   ]
  },
  {
   "cell_type": "markdown",
   "metadata": {},
   "source": [
    "# Set parameters"
   ]
  },
  {
   "cell_type": "code",
   "execution_count": 49,
   "metadata": {},
   "outputs": [],
   "source": [
    "num_train_examples = 100000\n",
    "max_train_length = 10\n",
    "\n",
    "num_test_examples = 10000\n",
    "min_test_length=5\n",
    "max_test_length=100\n",
    "step_test_length=5"
   ]
  },
  {
   "cell_type": "markdown",
   "metadata": {},
   "source": [
    "# Generate train data"
   ]
  },
  {
   "cell_type": "code",
   "execution_count": 70,
   "metadata": {},
   "outputs": [
    {
     "name": "stderr",
     "output_type": "stream",
     "text": [
      "Generating train examples: 100%|███████████████████████| 100000/100000 [00:02<00:00, 37286.08it/s]\n"
     ]
    }
   ],
   "source": [
    "X = np.ones((num_train_examples,max_train_length))\n",
    "prod_X = np.ones((num_train_examples))\n",
    "for i in tqdm(range(num_train_examples), desc='Generating train examples: '):\n",
    "    n = np.random.randint(1,max_train_length)\n",
    "    for j in range(1,n+1):\n",
    "        X[i,-j] = np.random.randint(1,3)\n",
    "    prod_X[i] = np.product(X[i])"
   ]
  },
  {
   "cell_type": "code",
   "execution_count": 71,
   "metadata": {
    "collapsed": false,
    "jupyter": {
     "outputs_hidden": false
    },
    "pycharm": {
     "name": "#%%\n"
    }
   },
   "outputs": [
    {
     "name": "stdout",
     "output_type": "stream",
     "text": [
      "[[1. 1. 1. 1. 1. 1. 1. 1. 1. 2.]\n",
      " [1. 1. 1. 1. 1. 1. 1. 1. 1. 2.]\n",
      " [1. 1. 1. 1. 1. 1. 1. 1. 2. 2.]\n",
      " [1. 1. 1. 1. 1. 2. 1. 2. 1. 1.]\n",
      " [1. 1. 1. 1. 1. 1. 2. 1. 2. 2.]\n",
      " [1. 1. 1. 1. 2. 1. 2. 2. 2. 1.]\n",
      " [1. 1. 1. 1. 1. 1. 1. 1. 1. 1.]\n",
      " [1. 1. 1. 1. 2. 1. 1. 1. 2. 1.]\n",
      " [1. 1. 1. 1. 1. 2. 1. 2. 2. 1.]\n",
      " [1. 1. 1. 1. 1. 1. 1. 1. 1. 2.]]\n",
      "[ 2.  2.  4.  4.  8. 16.  1.  4.  8.  2.]\n"
     ]
    }
   ],
   "source": [
    "print(X[0:10])\n",
    "print(prod_X[0:10])"
   ]
  },
  {
   "cell_type": "markdown",
   "metadata": {},
   "source": [
    "# Generate test data"
   ]
  },
  {
   "cell_type": "code",
   "execution_count": 72,
   "metadata": {},
   "outputs": [],
   "source": [
    "def gen_test_data(num_examples, length):\n",
    "    Y = np.ones((num_examples, length))\n",
    "    prod_Y = np.ones((num_examples))\n",
    "    for i in range(num_examples):\n",
    "        for j in range(1,length+1):\n",
    "            Y[i,-j] = np.random.randint(1,3)  # np.random.uniform()+0.5\n",
    "        prod_Y[i] = np.product(Y[i])\n",
    "    return Y, prod_Y"
   ]
  },
  {
   "cell_type": "markdown",
   "metadata": {},
   "source": [
    "# DeepSet Model"
   ]
  },
  {
   "cell_type": "code",
   "execution_count": 78,
   "metadata": {},
   "outputs": [],
   "source": [
    "def get_deepset_model(max_length):\n",
    "    input_txt = Input(shape=(max_length,))\n",
    "    x = Embedding(11, 1000, mask_zero=True)(input_txt)\n",
    "    x = Dense(300, activation='tanh')(x)\n",
    "    Adder = Lambda(lambda x: K.sum(x, axis=1), output_shape=(lambda shape: (shape[0], shape[2])))\n",
    "    x = Adder(x)\n",
    "    encoded = Dense(1)(x)\n",
    "    summer = Model(input_txt, encoded)\n",
    "    adam = Adam(lr=1e-4, epsilon=1e-3)\n",
    "    summer.compile(optimizer=adam, loss='mae')\n",
    "    return summer"
   ]
  },
  {
   "cell_type": "markdown",
   "metadata": {},
   "source": [
    "# LSTM Model"
   ]
  },
  {
   "cell_type": "code",
   "execution_count": 79,
   "metadata": {},
   "outputs": [],
   "source": [
    "def get_lstm_model(max_length):\n",
    "    input_txt = Input(shape=(max_length,))\n",
    "    x = Embedding(11, 1000, mask_zero=True)(input_txt)\n",
    "    x = LSTM(50)(x)\n",
    "    encoded = Dense(1)(x)\n",
    "    summer = Model(input_txt, encoded)\n",
    "    adam = Adam(lr=1e-4)\n",
    "    summer.compile(optimizer=adam, loss='mae')\n",
    "    return summer"
   ]
  },
  {
   "cell_type": "markdown",
   "metadata": {},
   "source": [
    "# GRU Model"
   ]
  },
  {
   "cell_type": "code",
   "execution_count": 80,
   "metadata": {},
   "outputs": [],
   "source": [
    "def get_gru_model(max_length):\n",
    "    input_txt = Input(shape=(max_length,))\n",
    "    x = Embedding(11, 1000, mask_zero=True)(input_txt)\n",
    "    x = GRU(80)(x)\n",
    "    encoded = Dense(1)(x)\n",
    "    summer = Model(input_txt, encoded)\n",
    "    adam = Adam(lr=1e-4)\n",
    "    summer.compile(optimizer=adam, loss='mae')\n",
    "    return summer"
   ]
  },
  {
   "cell_type": "markdown",
   "metadata": {},
   "source": [
    "# Train Deepset model"
   ]
  },
  {
   "cell_type": "code",
   "execution_count": 81,
   "metadata": {},
   "outputs": [
    {
     "data": {
      "image/svg+xml": [
       "<svg xmlns=\"http://www.w3.org/2000/svg\" xmlns:xlink=\"http://www.w3.org/1999/xlink\" width=\"419pt\" height=\"516pt\" viewBox=\"0.00 0.00 314.00 387.00\">\n",
       "<g id=\"graph0\" class=\"graph\" transform=\"scale(1.33333 1.33333) rotate(0) translate(4 383)\">\n",
       "<title>G</title>\n",
       "<polygon fill=\"white\" stroke=\"none\" points=\"-4,4 -4,-383 310,-383 310,4 -4,4\"/>\n",
       "<!-- 1595000123200 -->\n",
       "<g id=\"node1\" class=\"node\"><title>1595000123200</title>\n",
       "<polygon fill=\"none\" stroke=\"black\" points=\"31,-332.5 31,-378.5 275,-378.5 275,-332.5 31,-332.5\"/>\n",
       "<text text-anchor=\"middle\" x=\"94\" y=\"-351.8\" font-family=\"Times New Roman,serif\" font-size=\"14.00\">input_8: InputLayer</text>\n",
       "<polyline fill=\"none\" stroke=\"black\" points=\"157,-332.5 157,-378.5 \"/>\n",
       "<text text-anchor=\"middle\" x=\"185\" y=\"-363.3\" font-family=\"Times New Roman,serif\" font-size=\"14.00\">input:</text>\n",
       "<polyline fill=\"none\" stroke=\"black\" points=\"157,-355.5 213,-355.5 \"/>\n",
       "<text text-anchor=\"middle\" x=\"185\" y=\"-340.3\" font-family=\"Times New Roman,serif\" font-size=\"14.00\">output:</text>\n",
       "<polyline fill=\"none\" stroke=\"black\" points=\"213,-332.5 213,-378.5 \"/>\n",
       "<text text-anchor=\"middle\" x=\"244\" y=\"-363.3\" font-family=\"Times New Roman,serif\" font-size=\"14.00\">[(?, 10)]</text>\n",
       "<polyline fill=\"none\" stroke=\"black\" points=\"213,-355.5 275,-355.5 \"/>\n",
       "<text text-anchor=\"middle\" x=\"244\" y=\"-340.3\" font-family=\"Times New Roman,serif\" font-size=\"14.00\">[(?, 10)]</text>\n",
       "</g>\n",
       "<!-- 1594675710800 -->\n",
       "<g id=\"node2\" class=\"node\"><title>1594675710800</title>\n",
       "<polygon fill=\"none\" stroke=\"black\" points=\"0,-249.5 0,-295.5 306,-295.5 306,-249.5 0,-249.5\"/>\n",
       "<text text-anchor=\"middle\" x=\"81.5\" y=\"-268.8\" font-family=\"Times New Roman,serif\" font-size=\"14.00\">embedding_7: Embedding</text>\n",
       "<polyline fill=\"none\" stroke=\"black\" points=\"163,-249.5 163,-295.5 \"/>\n",
       "<text text-anchor=\"middle\" x=\"191\" y=\"-280.3\" font-family=\"Times New Roman,serif\" font-size=\"14.00\">input:</text>\n",
       "<polyline fill=\"none\" stroke=\"black\" points=\"163,-272.5 219,-272.5 \"/>\n",
       "<text text-anchor=\"middle\" x=\"191\" y=\"-257.3\" font-family=\"Times New Roman,serif\" font-size=\"14.00\">output:</text>\n",
       "<polyline fill=\"none\" stroke=\"black\" points=\"219,-249.5 219,-295.5 \"/>\n",
       "<text text-anchor=\"middle\" x=\"262.5\" y=\"-280.3\" font-family=\"Times New Roman,serif\" font-size=\"14.00\">(?, 10)</text>\n",
       "<polyline fill=\"none\" stroke=\"black\" points=\"219,-272.5 306,-272.5 \"/>\n",
       "<text text-anchor=\"middle\" x=\"262.5\" y=\"-257.3\" font-family=\"Times New Roman,serif\" font-size=\"14.00\">(?, 10, 1000)</text>\n",
       "</g>\n",
       "<!-- 1595000123200&#45;&gt;1594675710800 -->\n",
       "<g id=\"edge1\" class=\"edge\"><title>1595000123200-&gt;1594675710800</title>\n",
       "<path fill=\"none\" stroke=\"black\" d=\"M153,-332.366C153,-324.152 153,-314.658 153,-305.725\"/>\n",
       "<polygon fill=\"black\" stroke=\"black\" points=\"156.5,-305.607 153,-295.607 149.5,-305.607 156.5,-305.607\"/>\n",
       "</g>\n",
       "<!-- 1594841346880 -->\n",
       "<g id=\"node3\" class=\"node\"><title>1594841346880</title>\n",
       "<polygon fill=\"none\" stroke=\"black\" points=\"26,-166.5 26,-212.5 280,-212.5 280,-166.5 26,-166.5\"/>\n",
       "<text text-anchor=\"middle\" x=\"81.5\" y=\"-185.8\" font-family=\"Times New Roman,serif\" font-size=\"14.00\">dense_11: Dense</text>\n",
       "<polyline fill=\"none\" stroke=\"black\" points=\"137,-166.5 137,-212.5 \"/>\n",
       "<text text-anchor=\"middle\" x=\"165\" y=\"-197.3\" font-family=\"Times New Roman,serif\" font-size=\"14.00\">input:</text>\n",
       "<polyline fill=\"none\" stroke=\"black\" points=\"137,-189.5 193,-189.5 \"/>\n",
       "<text text-anchor=\"middle\" x=\"165\" y=\"-174.3\" font-family=\"Times New Roman,serif\" font-size=\"14.00\">output:</text>\n",
       "<polyline fill=\"none\" stroke=\"black\" points=\"193,-166.5 193,-212.5 \"/>\n",
       "<text text-anchor=\"middle\" x=\"236.5\" y=\"-197.3\" font-family=\"Times New Roman,serif\" font-size=\"14.00\">(?, 10, 1000)</text>\n",
       "<polyline fill=\"none\" stroke=\"black\" points=\"193,-189.5 280,-189.5 \"/>\n",
       "<text text-anchor=\"middle\" x=\"236.5\" y=\"-174.3\" font-family=\"Times New Roman,serif\" font-size=\"14.00\">(?, 10, 300)</text>\n",
       "</g>\n",
       "<!-- 1594675710800&#45;&gt;1594841346880 -->\n",
       "<g id=\"edge2\" class=\"edge\"><title>1594675710800-&gt;1594841346880</title>\n",
       "<path fill=\"none\" stroke=\"black\" d=\"M153,-249.366C153,-241.152 153,-231.658 153,-222.725\"/>\n",
       "<polygon fill=\"black\" stroke=\"black\" points=\"156.5,-222.607 153,-212.607 149.5,-222.607 156.5,-222.607\"/>\n",
       "</g>\n",
       "<!-- 1594791176752 -->\n",
       "<g id=\"node4\" class=\"node\"><title>1594791176752</title>\n",
       "<polygon fill=\"none\" stroke=\"black\" points=\"23,-83.5 23,-129.5 283,-129.5 283,-83.5 23,-83.5\"/>\n",
       "<text text-anchor=\"middle\" x=\"85\" y=\"-102.8\" font-family=\"Times New Roman,serif\" font-size=\"14.00\">lambda_4: Lambda</text>\n",
       "<polyline fill=\"none\" stroke=\"black\" points=\"147,-83.5 147,-129.5 \"/>\n",
       "<text text-anchor=\"middle\" x=\"175\" y=\"-114.3\" font-family=\"Times New Roman,serif\" font-size=\"14.00\">input:</text>\n",
       "<polyline fill=\"none\" stroke=\"black\" points=\"147,-106.5 203,-106.5 \"/>\n",
       "<text text-anchor=\"middle\" x=\"175\" y=\"-91.3\" font-family=\"Times New Roman,serif\" font-size=\"14.00\">output:</text>\n",
       "<polyline fill=\"none\" stroke=\"black\" points=\"203,-83.5 203,-129.5 \"/>\n",
       "<text text-anchor=\"middle\" x=\"243\" y=\"-114.3\" font-family=\"Times New Roman,serif\" font-size=\"14.00\">(?, 10, 300)</text>\n",
       "<polyline fill=\"none\" stroke=\"black\" points=\"203,-106.5 283,-106.5 \"/>\n",
       "<text text-anchor=\"middle\" x=\"243\" y=\"-91.3\" font-family=\"Times New Roman,serif\" font-size=\"14.00\">(?, 300)</text>\n",
       "</g>\n",
       "<!-- 1594841346880&#45;&gt;1594791176752 -->\n",
       "<g id=\"edge3\" class=\"edge\"><title>1594841346880-&gt;1594791176752</title>\n",
       "<path fill=\"none\" stroke=\"black\" d=\"M153,-166.366C153,-158.152 153,-148.658 153,-139.725\"/>\n",
       "<polygon fill=\"black\" stroke=\"black\" points=\"156.5,-139.607 153,-129.607 149.5,-139.607 156.5,-139.607\"/>\n",
       "</g>\n",
       "<!-- 1595133871536 -->\n",
       "<g id=\"node5\" class=\"node\"><title>1595133871536</title>\n",
       "<polygon fill=\"none\" stroke=\"black\" points=\"40,-0.5 40,-46.5 266,-46.5 266,-0.5 40,-0.5\"/>\n",
       "<text text-anchor=\"middle\" x=\"95.5\" y=\"-19.8\" font-family=\"Times New Roman,serif\" font-size=\"14.00\">dense_12: Dense</text>\n",
       "<polyline fill=\"none\" stroke=\"black\" points=\"151,-0.5 151,-46.5 \"/>\n",
       "<text text-anchor=\"middle\" x=\"179\" y=\"-31.3\" font-family=\"Times New Roman,serif\" font-size=\"14.00\">input:</text>\n",
       "<polyline fill=\"none\" stroke=\"black\" points=\"151,-23.5 207,-23.5 \"/>\n",
       "<text text-anchor=\"middle\" x=\"179\" y=\"-8.3\" font-family=\"Times New Roman,serif\" font-size=\"14.00\">output:</text>\n",
       "<polyline fill=\"none\" stroke=\"black\" points=\"207,-0.5 207,-46.5 \"/>\n",
       "<text text-anchor=\"middle\" x=\"236.5\" y=\"-31.3\" font-family=\"Times New Roman,serif\" font-size=\"14.00\">(?, 300)</text>\n",
       "<polyline fill=\"none\" stroke=\"black\" points=\"207,-23.5 266,-23.5 \"/>\n",
       "<text text-anchor=\"middle\" x=\"236.5\" y=\"-8.3\" font-family=\"Times New Roman,serif\" font-size=\"14.00\">(?, 1)</text>\n",
       "</g>\n",
       "<!-- 1594791176752&#45;&gt;1595133871536 -->\n",
       "<g id=\"edge4\" class=\"edge\"><title>1594791176752-&gt;1595133871536</title>\n",
       "<path fill=\"none\" stroke=\"black\" d=\"M153,-83.3664C153,-75.1516 153,-65.6579 153,-56.7252\"/>\n",
       "<polygon fill=\"black\" stroke=\"black\" points=\"156.5,-56.6068 153,-46.6068 149.5,-56.6069 156.5,-56.6068\"/>\n",
       "</g>\n",
       "</g>\n",
       "</svg>"
      ],
      "text/plain": [
       "<IPython.core.display.SVG object>"
      ]
     },
     "execution_count": 81,
     "metadata": {},
     "output_type": "execute_result"
    }
   ],
   "source": [
    "# model\n",
    "model = get_deepset_model(max_train_length)\n",
    "\n",
    "# visualize\n",
    "SVG(model_to_dot(model, show_shapes=True).create(prog='dot', format='svg'))"
   ]
  },
  {
   "cell_type": "code",
   "execution_count": 82,
   "metadata": {},
   "outputs": [
    {
     "name": "stdout",
     "output_type": "stream",
     "text": [
      "Epoch 1/10\n",
      "772/772 [==============================] - 16s 21ms/step - loss: 6.2035 - val_loss: 6.1579\n",
      "Epoch 2/10\n",
      "772/772 [==============================] - 18s 23ms/step - loss: 5.8121 - val_loss: 6.1787\n",
      "Epoch 3/10\n",
      " 77/772 [=>............................] - ETA: 16s - loss: 6.1778"
     ]
    },
    {
     "ename": "KeyboardInterrupt",
     "evalue": "",
     "output_type": "error",
     "traceback": [
      "\u001b[1;31m---------------------------------------------------------------------------\u001b[0m",
      "\u001b[1;31mKeyboardInterrupt\u001b[0m                         Traceback (most recent call last)",
      "\u001b[1;32m<ipython-input-82-972fd7dd2938>\u001b[0m in \u001b[0;36m<module>\u001b[1;34m\u001b[0m\n\u001b[0;32m      2\u001b[0m \u001b[0mcheckpointer\u001b[0m \u001b[1;33m=\u001b[0m \u001b[0mModelCheckpoint\u001b[0m\u001b[1;33m(\u001b[0m\u001b[0mfilepath\u001b[0m\u001b[1;33m=\u001b[0m\u001b[1;34m'/tmp/weights.hdf5'\u001b[0m\u001b[1;33m,\u001b[0m \u001b[0mverbose\u001b[0m\u001b[1;33m=\u001b[0m\u001b[1;36m0\u001b[0m\u001b[1;33m,\u001b[0m \u001b[0msave_best_only\u001b[0m\u001b[1;33m=\u001b[0m\u001b[1;32mTrue\u001b[0m\u001b[1;33m)\u001b[0m\u001b[1;33m\u001b[0m\u001b[1;33m\u001b[0m\u001b[0m\n\u001b[0;32m      3\u001b[0m \u001b[1;33m\u001b[0m\u001b[0m\n\u001b[1;32m----> 4\u001b[1;33m model.fit(X, prod_X, epochs=10, batch_size=128,\n\u001b[0m\u001b[0;32m      5\u001b[0m         \u001b[0mshuffle\u001b[0m\u001b[1;33m=\u001b[0m\u001b[1;32mTrue\u001b[0m\u001b[1;33m,\u001b[0m \u001b[0mvalidation_split\u001b[0m\u001b[1;33m=\u001b[0m\u001b[1;36m0.0123456789\u001b[0m\u001b[1;33m,\u001b[0m\u001b[1;33m\u001b[0m\u001b[1;33m\u001b[0m\u001b[0m\n\u001b[0;32m      6\u001b[0m         callbacks=[checkpointer])\n",
      "\u001b[1;32m~\\AppData\\Roaming\\Python\\Python38\\site-packages\\tensorflow\\python\\keras\\engine\\training.py\u001b[0m in \u001b[0;36m_method_wrapper\u001b[1;34m(self, *args, **kwargs)\u001b[0m\n\u001b[0;32m     64\u001b[0m   \u001b[1;32mdef\u001b[0m \u001b[0m_method_wrapper\u001b[0m\u001b[1;33m(\u001b[0m\u001b[0mself\u001b[0m\u001b[1;33m,\u001b[0m \u001b[1;33m*\u001b[0m\u001b[0margs\u001b[0m\u001b[1;33m,\u001b[0m \u001b[1;33m**\u001b[0m\u001b[0mkwargs\u001b[0m\u001b[1;33m)\u001b[0m\u001b[1;33m:\u001b[0m\u001b[1;33m\u001b[0m\u001b[1;33m\u001b[0m\u001b[0m\n\u001b[0;32m     65\u001b[0m     \u001b[1;32mif\u001b[0m \u001b[1;32mnot\u001b[0m \u001b[0mself\u001b[0m\u001b[1;33m.\u001b[0m\u001b[0m_in_multi_worker_mode\u001b[0m\u001b[1;33m(\u001b[0m\u001b[1;33m)\u001b[0m\u001b[1;33m:\u001b[0m  \u001b[1;31m# pylint: disable=protected-access\u001b[0m\u001b[1;33m\u001b[0m\u001b[1;33m\u001b[0m\u001b[0m\n\u001b[1;32m---> 66\u001b[1;33m       \u001b[1;32mreturn\u001b[0m \u001b[0mmethod\u001b[0m\u001b[1;33m(\u001b[0m\u001b[0mself\u001b[0m\u001b[1;33m,\u001b[0m \u001b[1;33m*\u001b[0m\u001b[0margs\u001b[0m\u001b[1;33m,\u001b[0m \u001b[1;33m**\u001b[0m\u001b[0mkwargs\u001b[0m\u001b[1;33m)\u001b[0m\u001b[1;33m\u001b[0m\u001b[1;33m\u001b[0m\u001b[0m\n\u001b[0m\u001b[0;32m     67\u001b[0m \u001b[1;33m\u001b[0m\u001b[0m\n\u001b[0;32m     68\u001b[0m     \u001b[1;31m# Running inside `run_distribute_coordinator` already.\u001b[0m\u001b[1;33m\u001b[0m\u001b[1;33m\u001b[0m\u001b[1;33m\u001b[0m\u001b[0m\n",
      "\u001b[1;32m~\\AppData\\Roaming\\Python\\Python38\\site-packages\\tensorflow\\python\\keras\\engine\\training.py\u001b[0m in \u001b[0;36mfit\u001b[1;34m(self, x, y, batch_size, epochs, verbose, callbacks, validation_split, validation_data, shuffle, class_weight, sample_weight, initial_epoch, steps_per_epoch, validation_steps, validation_batch_size, validation_freq, max_queue_size, workers, use_multiprocessing)\u001b[0m\n\u001b[0;32m    846\u001b[0m                 batch_size=batch_size):\n\u001b[0;32m    847\u001b[0m               \u001b[0mcallbacks\u001b[0m\u001b[1;33m.\u001b[0m\u001b[0mon_train_batch_begin\u001b[0m\u001b[1;33m(\u001b[0m\u001b[0mstep\u001b[0m\u001b[1;33m)\u001b[0m\u001b[1;33m\u001b[0m\u001b[1;33m\u001b[0m\u001b[0m\n\u001b[1;32m--> 848\u001b[1;33m               \u001b[0mtmp_logs\u001b[0m \u001b[1;33m=\u001b[0m \u001b[0mtrain_function\u001b[0m\u001b[1;33m(\u001b[0m\u001b[0miterator\u001b[0m\u001b[1;33m)\u001b[0m\u001b[1;33m\u001b[0m\u001b[1;33m\u001b[0m\u001b[0m\n\u001b[0m\u001b[0;32m    849\u001b[0m               \u001b[1;31m# Catch OutOfRangeError for Datasets of unknown size.\u001b[0m\u001b[1;33m\u001b[0m\u001b[1;33m\u001b[0m\u001b[1;33m\u001b[0m\u001b[0m\n\u001b[0;32m    850\u001b[0m               \u001b[1;31m# This blocks until the batch has finished executing.\u001b[0m\u001b[1;33m\u001b[0m\u001b[1;33m\u001b[0m\u001b[1;33m\u001b[0m\u001b[0m\n",
      "\u001b[1;32m~\\AppData\\Roaming\\Python\\Python38\\site-packages\\tensorflow\\python\\eager\\def_function.py\u001b[0m in \u001b[0;36m__call__\u001b[1;34m(self, *args, **kwds)\u001b[0m\n\u001b[0;32m    578\u001b[0m         \u001b[0mxla_context\u001b[0m\u001b[1;33m.\u001b[0m\u001b[0mExit\u001b[0m\u001b[1;33m(\u001b[0m\u001b[1;33m)\u001b[0m\u001b[1;33m\u001b[0m\u001b[1;33m\u001b[0m\u001b[0m\n\u001b[0;32m    579\u001b[0m     \u001b[1;32melse\u001b[0m\u001b[1;33m:\u001b[0m\u001b[1;33m\u001b[0m\u001b[1;33m\u001b[0m\u001b[0m\n\u001b[1;32m--> 580\u001b[1;33m       \u001b[0mresult\u001b[0m \u001b[1;33m=\u001b[0m \u001b[0mself\u001b[0m\u001b[1;33m.\u001b[0m\u001b[0m_call\u001b[0m\u001b[1;33m(\u001b[0m\u001b[1;33m*\u001b[0m\u001b[0margs\u001b[0m\u001b[1;33m,\u001b[0m \u001b[1;33m**\u001b[0m\u001b[0mkwds\u001b[0m\u001b[1;33m)\u001b[0m\u001b[1;33m\u001b[0m\u001b[1;33m\u001b[0m\u001b[0m\n\u001b[0m\u001b[0;32m    581\u001b[0m \u001b[1;33m\u001b[0m\u001b[0m\n\u001b[0;32m    582\u001b[0m     \u001b[1;32mif\u001b[0m \u001b[0mtracing_count\u001b[0m \u001b[1;33m==\u001b[0m \u001b[0mself\u001b[0m\u001b[1;33m.\u001b[0m\u001b[0m_get_tracing_count\u001b[0m\u001b[1;33m(\u001b[0m\u001b[1;33m)\u001b[0m\u001b[1;33m:\u001b[0m\u001b[1;33m\u001b[0m\u001b[1;33m\u001b[0m\u001b[0m\n",
      "\u001b[1;32m~\\AppData\\Roaming\\Python\\Python38\\site-packages\\tensorflow\\python\\eager\\def_function.py\u001b[0m in \u001b[0;36m_call\u001b[1;34m(self, *args, **kwds)\u001b[0m\n\u001b[0;32m    609\u001b[0m       \u001b[1;31m# In this case we have created variables on the first call, so we run the\u001b[0m\u001b[1;33m\u001b[0m\u001b[1;33m\u001b[0m\u001b[1;33m\u001b[0m\u001b[0m\n\u001b[0;32m    610\u001b[0m       \u001b[1;31m# defunned version which is guaranteed to never create variables.\u001b[0m\u001b[1;33m\u001b[0m\u001b[1;33m\u001b[0m\u001b[1;33m\u001b[0m\u001b[0m\n\u001b[1;32m--> 611\u001b[1;33m       \u001b[1;32mreturn\u001b[0m \u001b[0mself\u001b[0m\u001b[1;33m.\u001b[0m\u001b[0m_stateless_fn\u001b[0m\u001b[1;33m(\u001b[0m\u001b[1;33m*\u001b[0m\u001b[0margs\u001b[0m\u001b[1;33m,\u001b[0m \u001b[1;33m**\u001b[0m\u001b[0mkwds\u001b[0m\u001b[1;33m)\u001b[0m  \u001b[1;31m# pylint: disable=not-callable\u001b[0m\u001b[1;33m\u001b[0m\u001b[1;33m\u001b[0m\u001b[0m\n\u001b[0m\u001b[0;32m    612\u001b[0m     \u001b[1;32melif\u001b[0m \u001b[0mself\u001b[0m\u001b[1;33m.\u001b[0m\u001b[0m_stateful_fn\u001b[0m \u001b[1;32mis\u001b[0m \u001b[1;32mnot\u001b[0m \u001b[1;32mNone\u001b[0m\u001b[1;33m:\u001b[0m\u001b[1;33m\u001b[0m\u001b[1;33m\u001b[0m\u001b[0m\n\u001b[0;32m    613\u001b[0m       \u001b[1;31m# Release the lock early so that multiple threads can perform the call\u001b[0m\u001b[1;33m\u001b[0m\u001b[1;33m\u001b[0m\u001b[1;33m\u001b[0m\u001b[0m\n",
      "\u001b[1;32m~\\AppData\\Roaming\\Python\\Python38\\site-packages\\tensorflow\\python\\eager\\function.py\u001b[0m in \u001b[0;36m__call__\u001b[1;34m(self, *args, **kwargs)\u001b[0m\n\u001b[0;32m   2418\u001b[0m     \u001b[1;32mwith\u001b[0m \u001b[0mself\u001b[0m\u001b[1;33m.\u001b[0m\u001b[0m_lock\u001b[0m\u001b[1;33m:\u001b[0m\u001b[1;33m\u001b[0m\u001b[1;33m\u001b[0m\u001b[0m\n\u001b[0;32m   2419\u001b[0m       \u001b[0mgraph_function\u001b[0m\u001b[1;33m,\u001b[0m \u001b[0margs\u001b[0m\u001b[1;33m,\u001b[0m \u001b[0mkwargs\u001b[0m \u001b[1;33m=\u001b[0m \u001b[0mself\u001b[0m\u001b[1;33m.\u001b[0m\u001b[0m_maybe_define_function\u001b[0m\u001b[1;33m(\u001b[0m\u001b[0margs\u001b[0m\u001b[1;33m,\u001b[0m \u001b[0mkwargs\u001b[0m\u001b[1;33m)\u001b[0m\u001b[1;33m\u001b[0m\u001b[1;33m\u001b[0m\u001b[0m\n\u001b[1;32m-> 2420\u001b[1;33m     \u001b[1;32mreturn\u001b[0m \u001b[0mgraph_function\u001b[0m\u001b[1;33m.\u001b[0m\u001b[0m_filtered_call\u001b[0m\u001b[1;33m(\u001b[0m\u001b[0margs\u001b[0m\u001b[1;33m,\u001b[0m \u001b[0mkwargs\u001b[0m\u001b[1;33m)\u001b[0m  \u001b[1;31m# pylint: disable=protected-access\u001b[0m\u001b[1;33m\u001b[0m\u001b[1;33m\u001b[0m\u001b[0m\n\u001b[0m\u001b[0;32m   2421\u001b[0m \u001b[1;33m\u001b[0m\u001b[0m\n\u001b[0;32m   2422\u001b[0m   \u001b[1;33m@\u001b[0m\u001b[0mproperty\u001b[0m\u001b[1;33m\u001b[0m\u001b[1;33m\u001b[0m\u001b[0m\n",
      "\u001b[1;32m~\\AppData\\Roaming\\Python\\Python38\\site-packages\\tensorflow\\python\\eager\\function.py\u001b[0m in \u001b[0;36m_filtered_call\u001b[1;34m(self, args, kwargs)\u001b[0m\n\u001b[0;32m   1659\u001b[0m       \u001b[0;31m`\u001b[0m\u001b[0margs\u001b[0m\u001b[0;31m`\u001b[0m \u001b[1;32mand\u001b[0m\u001b[0;31m \u001b[0m\u001b[0;31m`\u001b[0m\u001b[0mkwargs\u001b[0m\u001b[0;31m`\u001b[0m\u001b[1;33m.\u001b[0m\u001b[1;33m\u001b[0m\u001b[1;33m\u001b[0m\u001b[0m\n\u001b[0;32m   1660\u001b[0m     \"\"\"\n\u001b[1;32m-> 1661\u001b[1;33m     return self._call_flat(\n\u001b[0m\u001b[0;32m   1662\u001b[0m         (t for t in nest.flatten((args, kwargs), expand_composites=True)\n\u001b[0;32m   1663\u001b[0m          if isinstance(t, (ops.Tensor,\n",
      "\u001b[1;32m~\\AppData\\Roaming\\Python\\Python38\\site-packages\\tensorflow\\python\\eager\\function.py\u001b[0m in \u001b[0;36m_call_flat\u001b[1;34m(self, args, captured_inputs, cancellation_manager)\u001b[0m\n\u001b[0;32m   1743\u001b[0m         and executing_eagerly):\n\u001b[0;32m   1744\u001b[0m       \u001b[1;31m# No tape is watching; skip to running the function.\u001b[0m\u001b[1;33m\u001b[0m\u001b[1;33m\u001b[0m\u001b[1;33m\u001b[0m\u001b[0m\n\u001b[1;32m-> 1745\u001b[1;33m       return self._build_call_outputs(self._inference_function.call(\n\u001b[0m\u001b[0;32m   1746\u001b[0m           ctx, args, cancellation_manager=cancellation_manager))\n\u001b[0;32m   1747\u001b[0m     forward_backward = self._select_forward_and_backward_functions(\n",
      "\u001b[1;32m~\\AppData\\Roaming\\Python\\Python38\\site-packages\\tensorflow\\python\\eager\\function.py\u001b[0m in \u001b[0;36mcall\u001b[1;34m(self, ctx, args, cancellation_manager)\u001b[0m\n\u001b[0;32m    591\u001b[0m       \u001b[1;32mwith\u001b[0m \u001b[0m_InterpolateFunctionError\u001b[0m\u001b[1;33m(\u001b[0m\u001b[0mself\u001b[0m\u001b[1;33m)\u001b[0m\u001b[1;33m:\u001b[0m\u001b[1;33m\u001b[0m\u001b[1;33m\u001b[0m\u001b[0m\n\u001b[0;32m    592\u001b[0m         \u001b[1;32mif\u001b[0m \u001b[0mcancellation_manager\u001b[0m \u001b[1;32mis\u001b[0m \u001b[1;32mNone\u001b[0m\u001b[1;33m:\u001b[0m\u001b[1;33m\u001b[0m\u001b[1;33m\u001b[0m\u001b[0m\n\u001b[1;32m--> 593\u001b[1;33m           outputs = execute.execute(\n\u001b[0m\u001b[0;32m    594\u001b[0m               \u001b[0mstr\u001b[0m\u001b[1;33m(\u001b[0m\u001b[0mself\u001b[0m\u001b[1;33m.\u001b[0m\u001b[0msignature\u001b[0m\u001b[1;33m.\u001b[0m\u001b[0mname\u001b[0m\u001b[1;33m)\u001b[0m\u001b[1;33m,\u001b[0m\u001b[1;33m\u001b[0m\u001b[1;33m\u001b[0m\u001b[0m\n\u001b[0;32m    595\u001b[0m               \u001b[0mnum_outputs\u001b[0m\u001b[1;33m=\u001b[0m\u001b[0mself\u001b[0m\u001b[1;33m.\u001b[0m\u001b[0m_num_outputs\u001b[0m\u001b[1;33m,\u001b[0m\u001b[1;33m\u001b[0m\u001b[1;33m\u001b[0m\u001b[0m\n",
      "\u001b[1;32m~\\AppData\\Roaming\\Python\\Python38\\site-packages\\tensorflow\\python\\eager\\execute.py\u001b[0m in \u001b[0;36mquick_execute\u001b[1;34m(op_name, num_outputs, inputs, attrs, ctx, name)\u001b[0m\n\u001b[0;32m     57\u001b[0m   \u001b[1;32mtry\u001b[0m\u001b[1;33m:\u001b[0m\u001b[1;33m\u001b[0m\u001b[1;33m\u001b[0m\u001b[0m\n\u001b[0;32m     58\u001b[0m     \u001b[0mctx\u001b[0m\u001b[1;33m.\u001b[0m\u001b[0mensure_initialized\u001b[0m\u001b[1;33m(\u001b[0m\u001b[1;33m)\u001b[0m\u001b[1;33m\u001b[0m\u001b[1;33m\u001b[0m\u001b[0m\n\u001b[1;32m---> 59\u001b[1;33m     tensors = pywrap_tfe.TFE_Py_Execute(ctx._handle, device_name, op_name,\n\u001b[0m\u001b[0;32m     60\u001b[0m                                         inputs, attrs, num_outputs)\n\u001b[0;32m     61\u001b[0m   \u001b[1;32mexcept\u001b[0m \u001b[0mcore\u001b[0m\u001b[1;33m.\u001b[0m\u001b[0m_NotOkStatusException\u001b[0m \u001b[1;32mas\u001b[0m \u001b[0me\u001b[0m\u001b[1;33m:\u001b[0m\u001b[1;33m\u001b[0m\u001b[1;33m\u001b[0m\u001b[0m\n",
      "\u001b[1;31mKeyboardInterrupt\u001b[0m: "
     ]
    }
   ],
   "source": [
    "# train\n",
    "checkpointer = ModelCheckpoint(filepath='/tmp/weights.hdf5', verbose=0, save_best_only=True)\n",
    "\n",
    "model.fit(X, prod_X, epochs=10, batch_size=128,\n",
    "        shuffle=True, validation_split=0.0123456789,\n",
    "        callbacks=[checkpointer])\n",
    "\n",
    "model = load_model('/tmp/weights.hdf5')\n",
    "\n",
    "# save weights\n",
    "deep_we = []\n",
    "for i in [1,2,4]:\n",
    "    w = model.get_layer(index=i).get_weights()\n",
    "    deep_we.append(w)"
   ]
  },
  {
   "cell_type": "markdown",
   "metadata": {},
   "source": [
    "# Train LSTM model"
   ]
  },
  {
   "cell_type": "code",
   "execution_count": 59,
   "metadata": {},
   "outputs": [
    {
     "data": {
      "image/svg+xml": [
       "<svg xmlns=\"http://www.w3.org/2000/svg\" xmlns:xlink=\"http://www.w3.org/1999/xlink\" width=\"419pt\" height=\"405pt\" viewBox=\"0.00 0.00 314.00 304.00\">\n",
       "<g id=\"graph0\" class=\"graph\" transform=\"scale(1.33333 1.33333) rotate(0) translate(4 300)\">\n",
       "<title>G</title>\n",
       "<polygon fill=\"white\" stroke=\"none\" points=\"-4,4 -4,-300 310,-300 310,4 -4,4\"/>\n",
       "<!-- 1595134314000 -->\n",
       "<g id=\"node1\" class=\"node\"><title>1595134314000</title>\n",
       "<polygon fill=\"none\" stroke=\"black\" points=\"31,-249.5 31,-295.5 275,-295.5 275,-249.5 31,-249.5\"/>\n",
       "<text text-anchor=\"middle\" x=\"94\" y=\"-268.8\" font-family=\"Times New Roman,serif\" font-size=\"14.00\">input_5: InputLayer</text>\n",
       "<polyline fill=\"none\" stroke=\"black\" points=\"157,-249.5 157,-295.5 \"/>\n",
       "<text text-anchor=\"middle\" x=\"185\" y=\"-280.3\" font-family=\"Times New Roman,serif\" font-size=\"14.00\">input:</text>\n",
       "<polyline fill=\"none\" stroke=\"black\" points=\"157,-272.5 213,-272.5 \"/>\n",
       "<text text-anchor=\"middle\" x=\"185\" y=\"-257.3\" font-family=\"Times New Roman,serif\" font-size=\"14.00\">output:</text>\n",
       "<polyline fill=\"none\" stroke=\"black\" points=\"213,-249.5 213,-295.5 \"/>\n",
       "<text text-anchor=\"middle\" x=\"244\" y=\"-280.3\" font-family=\"Times New Roman,serif\" font-size=\"14.00\">[(?, 10)]</text>\n",
       "<polyline fill=\"none\" stroke=\"black\" points=\"213,-272.5 275,-272.5 \"/>\n",
       "<text text-anchor=\"middle\" x=\"244\" y=\"-257.3\" font-family=\"Times New Roman,serif\" font-size=\"14.00\">[(?, 10)]</text>\n",
       "</g>\n",
       "<!-- 1594912863040 -->\n",
       "<g id=\"node2\" class=\"node\"><title>1594912863040</title>\n",
       "<polygon fill=\"none\" stroke=\"black\" points=\"0,-166.5 0,-212.5 306,-212.5 306,-166.5 0,-166.5\"/>\n",
       "<text text-anchor=\"middle\" x=\"81.5\" y=\"-185.8\" font-family=\"Times New Roman,serif\" font-size=\"14.00\">embedding_4: Embedding</text>\n",
       "<polyline fill=\"none\" stroke=\"black\" points=\"163,-166.5 163,-212.5 \"/>\n",
       "<text text-anchor=\"middle\" x=\"191\" y=\"-197.3\" font-family=\"Times New Roman,serif\" font-size=\"14.00\">input:</text>\n",
       "<polyline fill=\"none\" stroke=\"black\" points=\"163,-189.5 219,-189.5 \"/>\n",
       "<text text-anchor=\"middle\" x=\"191\" y=\"-174.3\" font-family=\"Times New Roman,serif\" font-size=\"14.00\">output:</text>\n",
       "<polyline fill=\"none\" stroke=\"black\" points=\"219,-166.5 219,-212.5 \"/>\n",
       "<text text-anchor=\"middle\" x=\"262.5\" y=\"-197.3\" font-family=\"Times New Roman,serif\" font-size=\"14.00\">(?, 10)</text>\n",
       "<polyline fill=\"none\" stroke=\"black\" points=\"219,-189.5 306,-189.5 \"/>\n",
       "<text text-anchor=\"middle\" x=\"262.5\" y=\"-174.3\" font-family=\"Times New Roman,serif\" font-size=\"14.00\">(?, 10, 1000)</text>\n",
       "</g>\n",
       "<!-- 1595134314000&#45;&gt;1594912863040 -->\n",
       "<g id=\"edge1\" class=\"edge\"><title>1595134314000-&gt;1594912863040</title>\n",
       "<path fill=\"none\" stroke=\"black\" d=\"M153,-249.366C153,-241.152 153,-231.658 153,-222.725\"/>\n",
       "<polygon fill=\"black\" stroke=\"black\" points=\"156.5,-222.607 153,-212.607 149.5,-222.607 156.5,-222.607\"/>\n",
       "</g>\n",
       "<!-- 1595134316992 -->\n",
       "<g id=\"node3\" class=\"node\"><title>1595134316992</title>\n",
       "<polygon fill=\"none\" stroke=\"black\" points=\"32.5,-83.5 32.5,-129.5 273.5,-129.5 273.5,-83.5 32.5,-83.5\"/>\n",
       "<text text-anchor=\"middle\" x=\"81.5\" y=\"-102.8\" font-family=\"Times New Roman,serif\" font-size=\"14.00\">lstm_1: LSTM</text>\n",
       "<polyline fill=\"none\" stroke=\"black\" points=\"130.5,-83.5 130.5,-129.5 \"/>\n",
       "<text text-anchor=\"middle\" x=\"158.5\" y=\"-114.3\" font-family=\"Times New Roman,serif\" font-size=\"14.00\">input:</text>\n",
       "<polyline fill=\"none\" stroke=\"black\" points=\"130.5,-106.5 186.5,-106.5 \"/>\n",
       "<text text-anchor=\"middle\" x=\"158.5\" y=\"-91.3\" font-family=\"Times New Roman,serif\" font-size=\"14.00\">output:</text>\n",
       "<polyline fill=\"none\" stroke=\"black\" points=\"186.5,-83.5 186.5,-129.5 \"/>\n",
       "<text text-anchor=\"middle\" x=\"230\" y=\"-114.3\" font-family=\"Times New Roman,serif\" font-size=\"14.00\">(?, 10, 1000)</text>\n",
       "<polyline fill=\"none\" stroke=\"black\" points=\"186.5,-106.5 273.5,-106.5 \"/>\n",
       "<text text-anchor=\"middle\" x=\"230\" y=\"-91.3\" font-family=\"Times New Roman,serif\" font-size=\"14.00\">(?, 50)</text>\n",
       "</g>\n",
       "<!-- 1594912863040&#45;&gt;1595134316992 -->\n",
       "<g id=\"edge2\" class=\"edge\"><title>1594912863040-&gt;1595134316992</title>\n",
       "<path fill=\"none\" stroke=\"black\" d=\"M153,-166.366C153,-158.152 153,-148.658 153,-139.725\"/>\n",
       "<polygon fill=\"black\" stroke=\"black\" points=\"156.5,-139.607 153,-129.607 149.5,-139.607 156.5,-139.607\"/>\n",
       "</g>\n",
       "<!-- 1594868734608 -->\n",
       "<g id=\"node4\" class=\"node\"><title>1594868734608</title>\n",
       "<polygon fill=\"none\" stroke=\"black\" points=\"46.5,-0.5 46.5,-46.5 259.5,-46.5 259.5,-0.5 46.5,-0.5\"/>\n",
       "<text text-anchor=\"middle\" x=\"98.5\" y=\"-19.8\" font-family=\"Times New Roman,serif\" font-size=\"14.00\">dense_6: Dense</text>\n",
       "<polyline fill=\"none\" stroke=\"black\" points=\"150.5,-0.5 150.5,-46.5 \"/>\n",
       "<text text-anchor=\"middle\" x=\"178.5\" y=\"-31.3\" font-family=\"Times New Roman,serif\" font-size=\"14.00\">input:</text>\n",
       "<polyline fill=\"none\" stroke=\"black\" points=\"150.5,-23.5 206.5,-23.5 \"/>\n",
       "<text text-anchor=\"middle\" x=\"178.5\" y=\"-8.3\" font-family=\"Times New Roman,serif\" font-size=\"14.00\">output:</text>\n",
       "<polyline fill=\"none\" stroke=\"black\" points=\"206.5,-0.5 206.5,-46.5 \"/>\n",
       "<text text-anchor=\"middle\" x=\"233\" y=\"-31.3\" font-family=\"Times New Roman,serif\" font-size=\"14.00\">(?, 50)</text>\n",
       "<polyline fill=\"none\" stroke=\"black\" points=\"206.5,-23.5 259.5,-23.5 \"/>\n",
       "<text text-anchor=\"middle\" x=\"233\" y=\"-8.3\" font-family=\"Times New Roman,serif\" font-size=\"14.00\">(?, 1)</text>\n",
       "</g>\n",
       "<!-- 1595134316992&#45;&gt;1594868734608 -->\n",
       "<g id=\"edge3\" class=\"edge\"><title>1595134316992-&gt;1594868734608</title>\n",
       "<path fill=\"none\" stroke=\"black\" d=\"M153,-83.3664C153,-75.1516 153,-65.6579 153,-56.7252\"/>\n",
       "<polygon fill=\"black\" stroke=\"black\" points=\"156.5,-56.6068 153,-46.6068 149.5,-56.6069 156.5,-56.6068\"/>\n",
       "</g>\n",
       "</g>\n",
       "</svg>"
      ],
      "text/plain": [
       "<IPython.core.display.SVG object>"
      ]
     },
     "execution_count": 59,
     "metadata": {},
     "output_type": "execute_result"
    }
   ],
   "source": [
    "# model\n",
    "model = get_lstm_model(max_train_length)\n",
    "\n",
    "# visualize\n",
    "SVG(model_to_dot(model, show_shapes=True).create(prog='dot', format='svg'))"
   ]
  },
  {
   "cell_type": "code",
   "execution_count": 60,
   "metadata": {},
   "outputs": [
    {
     "name": "stdout",
     "output_type": "stream",
     "text": [
      "Epoch 1/50\n",
      "199/772 [======>.......................] - ETA: 26s - loss: 709.7595"
     ]
    },
    {
     "ename": "KeyboardInterrupt",
     "evalue": "",
     "output_type": "error",
     "traceback": [
      "\u001b[1;31m---------------------------------------------------------------------------\u001b[0m",
      "\u001b[1;31mKeyboardInterrupt\u001b[0m                         Traceback (most recent call last)",
      "\u001b[1;32m<ipython-input-60-4247ddf638be>\u001b[0m in \u001b[0;36m<module>\u001b[1;34m\u001b[0m\n\u001b[0;32m      2\u001b[0m \u001b[0mcheckpointer\u001b[0m \u001b[1;33m=\u001b[0m \u001b[0mModelCheckpoint\u001b[0m\u001b[1;33m(\u001b[0m\u001b[0mfilepath\u001b[0m\u001b[1;33m=\u001b[0m\u001b[1;34m'/tmp/weights1.hdf5'\u001b[0m\u001b[1;33m,\u001b[0m \u001b[0mverbose\u001b[0m\u001b[1;33m=\u001b[0m\u001b[1;36m0\u001b[0m\u001b[1;33m,\u001b[0m \u001b[0msave_best_only\u001b[0m\u001b[1;33m=\u001b[0m\u001b[1;32mTrue\u001b[0m\u001b[1;33m)\u001b[0m\u001b[1;33m\u001b[0m\u001b[1;33m\u001b[0m\u001b[0m\n\u001b[0;32m      3\u001b[0m \u001b[1;33m\u001b[0m\u001b[0m\n\u001b[1;32m----> 4\u001b[1;33m model.fit(X, prod_X, epochs=50, batch_size=128,\n\u001b[0m\u001b[0;32m      5\u001b[0m         \u001b[0mshuffle\u001b[0m\u001b[1;33m=\u001b[0m\u001b[1;32mTrue\u001b[0m\u001b[1;33m,\u001b[0m \u001b[0mvalidation_split\u001b[0m\u001b[1;33m=\u001b[0m\u001b[1;36m0.0123456789\u001b[0m\u001b[1;33m,\u001b[0m\u001b[1;33m\u001b[0m\u001b[1;33m\u001b[0m\u001b[0m\n\u001b[0;32m      6\u001b[0m         callbacks=[checkpointer])\n",
      "\u001b[1;32m~\\AppData\\Roaming\\Python\\Python38\\site-packages\\tensorflow\\python\\keras\\engine\\training.py\u001b[0m in \u001b[0;36m_method_wrapper\u001b[1;34m(self, *args, **kwargs)\u001b[0m\n\u001b[0;32m     64\u001b[0m   \u001b[1;32mdef\u001b[0m \u001b[0m_method_wrapper\u001b[0m\u001b[1;33m(\u001b[0m\u001b[0mself\u001b[0m\u001b[1;33m,\u001b[0m \u001b[1;33m*\u001b[0m\u001b[0margs\u001b[0m\u001b[1;33m,\u001b[0m \u001b[1;33m**\u001b[0m\u001b[0mkwargs\u001b[0m\u001b[1;33m)\u001b[0m\u001b[1;33m:\u001b[0m\u001b[1;33m\u001b[0m\u001b[1;33m\u001b[0m\u001b[0m\n\u001b[0;32m     65\u001b[0m     \u001b[1;32mif\u001b[0m \u001b[1;32mnot\u001b[0m \u001b[0mself\u001b[0m\u001b[1;33m.\u001b[0m\u001b[0m_in_multi_worker_mode\u001b[0m\u001b[1;33m(\u001b[0m\u001b[1;33m)\u001b[0m\u001b[1;33m:\u001b[0m  \u001b[1;31m# pylint: disable=protected-access\u001b[0m\u001b[1;33m\u001b[0m\u001b[1;33m\u001b[0m\u001b[0m\n\u001b[1;32m---> 66\u001b[1;33m       \u001b[1;32mreturn\u001b[0m \u001b[0mmethod\u001b[0m\u001b[1;33m(\u001b[0m\u001b[0mself\u001b[0m\u001b[1;33m,\u001b[0m \u001b[1;33m*\u001b[0m\u001b[0margs\u001b[0m\u001b[1;33m,\u001b[0m \u001b[1;33m**\u001b[0m\u001b[0mkwargs\u001b[0m\u001b[1;33m)\u001b[0m\u001b[1;33m\u001b[0m\u001b[1;33m\u001b[0m\u001b[0m\n\u001b[0m\u001b[0;32m     67\u001b[0m \u001b[1;33m\u001b[0m\u001b[0m\n\u001b[0;32m     68\u001b[0m     \u001b[1;31m# Running inside `run_distribute_coordinator` already.\u001b[0m\u001b[1;33m\u001b[0m\u001b[1;33m\u001b[0m\u001b[1;33m\u001b[0m\u001b[0m\n",
      "\u001b[1;32m~\\AppData\\Roaming\\Python\\Python38\\site-packages\\tensorflow\\python\\keras\\engine\\training.py\u001b[0m in \u001b[0;36mfit\u001b[1;34m(self, x, y, batch_size, epochs, verbose, callbacks, validation_split, validation_data, shuffle, class_weight, sample_weight, initial_epoch, steps_per_epoch, validation_steps, validation_batch_size, validation_freq, max_queue_size, workers, use_multiprocessing)\u001b[0m\n\u001b[0;32m    846\u001b[0m                 batch_size=batch_size):\n\u001b[0;32m    847\u001b[0m               \u001b[0mcallbacks\u001b[0m\u001b[1;33m.\u001b[0m\u001b[0mon_train_batch_begin\u001b[0m\u001b[1;33m(\u001b[0m\u001b[0mstep\u001b[0m\u001b[1;33m)\u001b[0m\u001b[1;33m\u001b[0m\u001b[1;33m\u001b[0m\u001b[0m\n\u001b[1;32m--> 848\u001b[1;33m               \u001b[0mtmp_logs\u001b[0m \u001b[1;33m=\u001b[0m \u001b[0mtrain_function\u001b[0m\u001b[1;33m(\u001b[0m\u001b[0miterator\u001b[0m\u001b[1;33m)\u001b[0m\u001b[1;33m\u001b[0m\u001b[1;33m\u001b[0m\u001b[0m\n\u001b[0m\u001b[0;32m    849\u001b[0m               \u001b[1;31m# Catch OutOfRangeError for Datasets of unknown size.\u001b[0m\u001b[1;33m\u001b[0m\u001b[1;33m\u001b[0m\u001b[1;33m\u001b[0m\u001b[0m\n\u001b[0;32m    850\u001b[0m               \u001b[1;31m# This blocks until the batch has finished executing.\u001b[0m\u001b[1;33m\u001b[0m\u001b[1;33m\u001b[0m\u001b[1;33m\u001b[0m\u001b[0m\n",
      "\u001b[1;32m~\\AppData\\Roaming\\Python\\Python38\\site-packages\\tensorflow\\python\\eager\\def_function.py\u001b[0m in \u001b[0;36m__call__\u001b[1;34m(self, *args, **kwds)\u001b[0m\n\u001b[0;32m    578\u001b[0m         \u001b[0mxla_context\u001b[0m\u001b[1;33m.\u001b[0m\u001b[0mExit\u001b[0m\u001b[1;33m(\u001b[0m\u001b[1;33m)\u001b[0m\u001b[1;33m\u001b[0m\u001b[1;33m\u001b[0m\u001b[0m\n\u001b[0;32m    579\u001b[0m     \u001b[1;32melse\u001b[0m\u001b[1;33m:\u001b[0m\u001b[1;33m\u001b[0m\u001b[1;33m\u001b[0m\u001b[0m\n\u001b[1;32m--> 580\u001b[1;33m       \u001b[0mresult\u001b[0m \u001b[1;33m=\u001b[0m \u001b[0mself\u001b[0m\u001b[1;33m.\u001b[0m\u001b[0m_call\u001b[0m\u001b[1;33m(\u001b[0m\u001b[1;33m*\u001b[0m\u001b[0margs\u001b[0m\u001b[1;33m,\u001b[0m \u001b[1;33m**\u001b[0m\u001b[0mkwds\u001b[0m\u001b[1;33m)\u001b[0m\u001b[1;33m\u001b[0m\u001b[1;33m\u001b[0m\u001b[0m\n\u001b[0m\u001b[0;32m    581\u001b[0m \u001b[1;33m\u001b[0m\u001b[0m\n\u001b[0;32m    582\u001b[0m     \u001b[1;32mif\u001b[0m \u001b[0mtracing_count\u001b[0m \u001b[1;33m==\u001b[0m \u001b[0mself\u001b[0m\u001b[1;33m.\u001b[0m\u001b[0m_get_tracing_count\u001b[0m\u001b[1;33m(\u001b[0m\u001b[1;33m)\u001b[0m\u001b[1;33m:\u001b[0m\u001b[1;33m\u001b[0m\u001b[1;33m\u001b[0m\u001b[0m\n",
      "\u001b[1;32m~\\AppData\\Roaming\\Python\\Python38\\site-packages\\tensorflow\\python\\eager\\def_function.py\u001b[0m in \u001b[0;36m_call\u001b[1;34m(self, *args, **kwds)\u001b[0m\n\u001b[0;32m    609\u001b[0m       \u001b[1;31m# In this case we have created variables on the first call, so we run the\u001b[0m\u001b[1;33m\u001b[0m\u001b[1;33m\u001b[0m\u001b[1;33m\u001b[0m\u001b[0m\n\u001b[0;32m    610\u001b[0m       \u001b[1;31m# defunned version which is guaranteed to never create variables.\u001b[0m\u001b[1;33m\u001b[0m\u001b[1;33m\u001b[0m\u001b[1;33m\u001b[0m\u001b[0m\n\u001b[1;32m--> 611\u001b[1;33m       \u001b[1;32mreturn\u001b[0m \u001b[0mself\u001b[0m\u001b[1;33m.\u001b[0m\u001b[0m_stateless_fn\u001b[0m\u001b[1;33m(\u001b[0m\u001b[1;33m*\u001b[0m\u001b[0margs\u001b[0m\u001b[1;33m,\u001b[0m \u001b[1;33m**\u001b[0m\u001b[0mkwds\u001b[0m\u001b[1;33m)\u001b[0m  \u001b[1;31m# pylint: disable=not-callable\u001b[0m\u001b[1;33m\u001b[0m\u001b[1;33m\u001b[0m\u001b[0m\n\u001b[0m\u001b[0;32m    612\u001b[0m     \u001b[1;32melif\u001b[0m \u001b[0mself\u001b[0m\u001b[1;33m.\u001b[0m\u001b[0m_stateful_fn\u001b[0m \u001b[1;32mis\u001b[0m \u001b[1;32mnot\u001b[0m \u001b[1;32mNone\u001b[0m\u001b[1;33m:\u001b[0m\u001b[1;33m\u001b[0m\u001b[1;33m\u001b[0m\u001b[0m\n\u001b[0;32m    613\u001b[0m       \u001b[1;31m# Release the lock early so that multiple threads can perform the call\u001b[0m\u001b[1;33m\u001b[0m\u001b[1;33m\u001b[0m\u001b[1;33m\u001b[0m\u001b[0m\n",
      "\u001b[1;32m~\\AppData\\Roaming\\Python\\Python38\\site-packages\\tensorflow\\python\\eager\\function.py\u001b[0m in \u001b[0;36m__call__\u001b[1;34m(self, *args, **kwargs)\u001b[0m\n\u001b[0;32m   2418\u001b[0m     \u001b[1;32mwith\u001b[0m \u001b[0mself\u001b[0m\u001b[1;33m.\u001b[0m\u001b[0m_lock\u001b[0m\u001b[1;33m:\u001b[0m\u001b[1;33m\u001b[0m\u001b[1;33m\u001b[0m\u001b[0m\n\u001b[0;32m   2419\u001b[0m       \u001b[0mgraph_function\u001b[0m\u001b[1;33m,\u001b[0m \u001b[0margs\u001b[0m\u001b[1;33m,\u001b[0m \u001b[0mkwargs\u001b[0m \u001b[1;33m=\u001b[0m \u001b[0mself\u001b[0m\u001b[1;33m.\u001b[0m\u001b[0m_maybe_define_function\u001b[0m\u001b[1;33m(\u001b[0m\u001b[0margs\u001b[0m\u001b[1;33m,\u001b[0m \u001b[0mkwargs\u001b[0m\u001b[1;33m)\u001b[0m\u001b[1;33m\u001b[0m\u001b[1;33m\u001b[0m\u001b[0m\n\u001b[1;32m-> 2420\u001b[1;33m     \u001b[1;32mreturn\u001b[0m \u001b[0mgraph_function\u001b[0m\u001b[1;33m.\u001b[0m\u001b[0m_filtered_call\u001b[0m\u001b[1;33m(\u001b[0m\u001b[0margs\u001b[0m\u001b[1;33m,\u001b[0m \u001b[0mkwargs\u001b[0m\u001b[1;33m)\u001b[0m  \u001b[1;31m# pylint: disable=protected-access\u001b[0m\u001b[1;33m\u001b[0m\u001b[1;33m\u001b[0m\u001b[0m\n\u001b[0m\u001b[0;32m   2421\u001b[0m \u001b[1;33m\u001b[0m\u001b[0m\n\u001b[0;32m   2422\u001b[0m   \u001b[1;33m@\u001b[0m\u001b[0mproperty\u001b[0m\u001b[1;33m\u001b[0m\u001b[1;33m\u001b[0m\u001b[0m\n",
      "\u001b[1;32m~\\AppData\\Roaming\\Python\\Python38\\site-packages\\tensorflow\\python\\eager\\function.py\u001b[0m in \u001b[0;36m_filtered_call\u001b[1;34m(self, args, kwargs)\u001b[0m\n\u001b[0;32m   1659\u001b[0m       \u001b[0;31m`\u001b[0m\u001b[0margs\u001b[0m\u001b[0;31m`\u001b[0m \u001b[1;32mand\u001b[0m\u001b[0;31m \u001b[0m\u001b[0;31m`\u001b[0m\u001b[0mkwargs\u001b[0m\u001b[0;31m`\u001b[0m\u001b[1;33m.\u001b[0m\u001b[1;33m\u001b[0m\u001b[1;33m\u001b[0m\u001b[0m\n\u001b[0;32m   1660\u001b[0m     \"\"\"\n\u001b[1;32m-> 1661\u001b[1;33m     return self._call_flat(\n\u001b[0m\u001b[0;32m   1662\u001b[0m         (t for t in nest.flatten((args, kwargs), expand_composites=True)\n\u001b[0;32m   1663\u001b[0m          if isinstance(t, (ops.Tensor,\n",
      "\u001b[1;32m~\\AppData\\Roaming\\Python\\Python38\\site-packages\\tensorflow\\python\\eager\\function.py\u001b[0m in \u001b[0;36m_call_flat\u001b[1;34m(self, args, captured_inputs, cancellation_manager)\u001b[0m\n\u001b[0;32m   1743\u001b[0m         and executing_eagerly):\n\u001b[0;32m   1744\u001b[0m       \u001b[1;31m# No tape is watching; skip to running the function.\u001b[0m\u001b[1;33m\u001b[0m\u001b[1;33m\u001b[0m\u001b[1;33m\u001b[0m\u001b[0m\n\u001b[1;32m-> 1745\u001b[1;33m       return self._build_call_outputs(self._inference_function.call(\n\u001b[0m\u001b[0;32m   1746\u001b[0m           ctx, args, cancellation_manager=cancellation_manager))\n\u001b[0;32m   1747\u001b[0m     forward_backward = self._select_forward_and_backward_functions(\n",
      "\u001b[1;32m~\\AppData\\Roaming\\Python\\Python38\\site-packages\\tensorflow\\python\\eager\\function.py\u001b[0m in \u001b[0;36mcall\u001b[1;34m(self, ctx, args, cancellation_manager)\u001b[0m\n\u001b[0;32m    591\u001b[0m       \u001b[1;32mwith\u001b[0m \u001b[0m_InterpolateFunctionError\u001b[0m\u001b[1;33m(\u001b[0m\u001b[0mself\u001b[0m\u001b[1;33m)\u001b[0m\u001b[1;33m:\u001b[0m\u001b[1;33m\u001b[0m\u001b[1;33m\u001b[0m\u001b[0m\n\u001b[0;32m    592\u001b[0m         \u001b[1;32mif\u001b[0m \u001b[0mcancellation_manager\u001b[0m \u001b[1;32mis\u001b[0m \u001b[1;32mNone\u001b[0m\u001b[1;33m:\u001b[0m\u001b[1;33m\u001b[0m\u001b[1;33m\u001b[0m\u001b[0m\n\u001b[1;32m--> 593\u001b[1;33m           outputs = execute.execute(\n\u001b[0m\u001b[0;32m    594\u001b[0m               \u001b[0mstr\u001b[0m\u001b[1;33m(\u001b[0m\u001b[0mself\u001b[0m\u001b[1;33m.\u001b[0m\u001b[0msignature\u001b[0m\u001b[1;33m.\u001b[0m\u001b[0mname\u001b[0m\u001b[1;33m)\u001b[0m\u001b[1;33m,\u001b[0m\u001b[1;33m\u001b[0m\u001b[1;33m\u001b[0m\u001b[0m\n\u001b[0;32m    595\u001b[0m               \u001b[0mnum_outputs\u001b[0m\u001b[1;33m=\u001b[0m\u001b[0mself\u001b[0m\u001b[1;33m.\u001b[0m\u001b[0m_num_outputs\u001b[0m\u001b[1;33m,\u001b[0m\u001b[1;33m\u001b[0m\u001b[1;33m\u001b[0m\u001b[0m\n",
      "\u001b[1;32m~\\AppData\\Roaming\\Python\\Python38\\site-packages\\tensorflow\\python\\eager\\execute.py\u001b[0m in \u001b[0;36mquick_execute\u001b[1;34m(op_name, num_outputs, inputs, attrs, ctx, name)\u001b[0m\n\u001b[0;32m     57\u001b[0m   \u001b[1;32mtry\u001b[0m\u001b[1;33m:\u001b[0m\u001b[1;33m\u001b[0m\u001b[1;33m\u001b[0m\u001b[0m\n\u001b[0;32m     58\u001b[0m     \u001b[0mctx\u001b[0m\u001b[1;33m.\u001b[0m\u001b[0mensure_initialized\u001b[0m\u001b[1;33m(\u001b[0m\u001b[1;33m)\u001b[0m\u001b[1;33m\u001b[0m\u001b[1;33m\u001b[0m\u001b[0m\n\u001b[1;32m---> 59\u001b[1;33m     tensors = pywrap_tfe.TFE_Py_Execute(ctx._handle, device_name, op_name,\n\u001b[0m\u001b[0;32m     60\u001b[0m                                         inputs, attrs, num_outputs)\n\u001b[0;32m     61\u001b[0m   \u001b[1;32mexcept\u001b[0m \u001b[0mcore\u001b[0m\u001b[1;33m.\u001b[0m\u001b[0m_NotOkStatusException\u001b[0m \u001b[1;32mas\u001b[0m \u001b[0me\u001b[0m\u001b[1;33m:\u001b[0m\u001b[1;33m\u001b[0m\u001b[1;33m\u001b[0m\u001b[0m\n",
      "\u001b[1;31mKeyboardInterrupt\u001b[0m: "
     ]
    }
   ],
   "source": [
    "# train\n",
    "checkpointer = ModelCheckpoint(filepath='/tmp/weights1.hdf5', verbose=0, save_best_only=True)\n",
    "\n",
    "model.fit(X, prod_X, epochs=50, batch_size=128,\n",
    "        shuffle=True, validation_split=0.0123456789,\n",
    "        callbacks=[checkpointer])\n",
    "\n",
    "model = load_model('/tmp/weights1.hdf5')\n",
    "\n",
    "# save weights\n",
    "lstm_we = []\n",
    "for i in [1,2,3]:\n",
    "    w = model.get_layer(index=i).get_weights()\n",
    "    lstm_we.append(w)"
   ]
  },
  {
   "cell_type": "markdown",
   "metadata": {},
   "source": [
    "# Train GRU model"
   ]
  },
  {
   "cell_type": "code",
   "execution_count": null,
   "metadata": {},
   "outputs": [],
   "source": [
    "# model\n",
    "model = get_gru_model(max_train_length)\n",
    "\n",
    "# visualize\n",
    "SVG(model_to_dot(model, show_shapes=True).create(prog='dot', format='svg'))"
   ]
  },
  {
   "cell_type": "code",
   "execution_count": null,
   "metadata": {},
   "outputs": [],
   "source": [
    "# train\n",
    "checkpointer = ModelCheckpoint(filepath='/tmp/weights2.hdf5', verbose=0, save_best_only=True)\n",
    "\n",
    "model.fit(X, prod_X, epochs=50, batch_size=128,\n",
    "        shuffle=True, validation_split=0.0123456789,\n",
    "        callbacks=[checkpointer])\n",
    "\n",
    "model = load_model('/tmp/weights2.hdf5')\n",
    "\n",
    "# save weights\n",
    "gru_we = []\n",
    "for i in [1,2,3]:\n",
    "    w = model.get_layer(index=i).get_weights()\n",
    "    gru_we.append(w)"
   ]
  },
  {
   "cell_type": "markdown",
   "metadata": {},
   "source": [
    "# Evaluate models"
   ]
  },
  {
   "cell_type": "code",
   "execution_count": null,
   "metadata": {},
   "outputs": [],
   "source": [
    "metrics = {'deepsets': {'acc':[], 'mae':[], 'mse':[]}, 'lstm': {'acc':[], 'mae':[], 'mse':[]}, 'gru': {'acc':[], 'mae':[], 'mse':[]}}\n",
    "\n",
    "lengths = range(min_test_length, max_test_length, step_test_length)\n",
    "for l in lengths:\n",
    "    print('Evaluating at length: ', l)\n",
    "    K.clear_session()\n",
    "    \n",
    "    # generate test data\n",
    "    Y, prod_Y = gen_test_data(num_test_examples, l)\n",
    "\n",
    "    # model\n",
    "    model = get_deepset_model(l)\n",
    "\n",
    "    # load weights\n",
    "    for i, idx in enumerate([1,2,4]):\n",
    "        model.get_layer(index=idx).set_weights(deep_we[i])\n",
    "\n",
    "    # prediction\n",
    "    preds = model.predict(Y, batch_size=128, verbose=1)\n",
    "    metrics['deepsets']['acc'].append(1.0*np.sum(np.squeeze(np.round(preds))==np.round(prod_Y))/len(prod_Y))\n",
    "    metrics['deepsets']['mae'].append(np.sum(np.abs(np.squeeze(preds)-prod_Y))/len(prod_Y))\n",
    "    metrics['deepsets']['mse'].append(np.dot(np.squeeze(preds)-prod_Y, np.squeeze(preds)-prod_Y)/len(prod_Y))\n",
    "    \n",
    "    # model\n",
    "    model = get_lstm_model(l)\n",
    "\n",
    "    # load weights\n",
    "    for i, idx in enumerate([1,2,3]):\n",
    "        model.get_layer(index=idx).set_weights(lstm_we[i])\n",
    "\n",
    "    # prediction\n",
    "    preds = model.predict(Y, batch_size=128, verbose=1)\n",
    "    metrics['lstm']['acc'].append(1.0*np.sum(np.squeeze(np.round(preds))==np.round(prod_Y))/len(prod_Y))\n",
    "    metrics['lstm']['mae'].append(np.sum(np.abs(np.squeeze(preds)-prod_Y))/len(prod_Y))\n",
    "    metrics['lstm']['mse'].append(np.dot(np.squeeze(preds)-prod_Y, np.squeeze(preds)-prod_Y)/len(prod_Y))\n",
    "    \n",
    "    # model\n",
    "    model = get_gru_model(l)\n",
    "\n",
    "    # load weights\n",
    "    for i, idx in enumerate([1,2,3]):\n",
    "        model.get_layer(index=idx).set_weights(gru_we[i])\n",
    "\n",
    "    # prediction\n",
    "    preds = model.predict(Y, batch_size=128, verbose=1)\n",
    "    metrics['gru']['acc'].append(1.0*np.sum(np.squeeze(np.round(preds))==np.round(prod_Y))/len(prod_Y))\n",
    "    metrics['gru']['mae'].append(np.sum(np.abs(np.squeeze(preds)-prod_Y))/len(prod_Y))\n",
    "    metrics['gru']['mse'].append(np.dot(np.squeeze(preds)-prod_Y, np.squeeze(preds)-prod_Y)/len(prod_Y))"
   ]
  },
  {
   "cell_type": "markdown",
   "metadata": {},
   "source": [
    "Compare the performance"
   ]
  },
  {
   "cell_type": "code",
   "execution_count": null,
   "metadata": {},
   "outputs": [],
   "source": [
    "font = {'size': 14}\n",
    "matplotlib.rc('font', **font)\n",
    "\n",
    "scale = 0.5\n",
    "plt.figure(figsize=(10*scale, 8*scale))\n",
    "\n",
    "plt.plot(lengths, metrics['deepsets']['acc'], 'o-')\n",
    "plt.plot(lengths, metrics['lstm']['acc'], 'o-')\n",
    "plt.plot(lengths, metrics['gru']['acc'], 'o-')\n",
    "plt.xlabel('Number of digits to add')\n",
    "plt.ylabel('Accuracy')\n",
    "plt.title('Accuracy')\n",
    "plt.ylim( 0, 1.1 )\n",
    "plt.xlim( 5, 95 )\n",
    "plt.legend(['Deepsets', 'LSTM', 'GRU'], fontsize=14)\n",
    "plt.tight_layout()\n",
    "plt.show()"
   ]
  },
  {
   "cell_type": "code",
   "execution_count": null,
   "metadata": {},
   "outputs": [],
   "source": [
    "font = {'size': 14}\n",
    "matplotlib.rc('font', **font)\n",
    "\n",
    "scale = 0.5\n",
    "plt.figure(figsize=(10*scale, 8*scale))\n",
    "\n",
    "plt.plot(lengths, np.array(metrics['deepsets']['mae'])/1e2, 'x-')\n",
    "plt.plot(lengths, np.array(metrics['lstm']['mae'])/1e2, 'x-')\n",
    "plt.plot(lengths, np.array(metrics['gru']['mae'])/1e2, 'x-')\n",
    "plt.xlabel('Number of digits to multiply')\n",
    "plt.ylabel('Mean absolute error/1e2')\n",
    "plt.title('MAE')\n",
    "plt.legend(['Deepsets', 'LSTM', 'GRU'], fontsize=14)\n",
    "plt.tight_layout()\n",
    "plt.show()"
   ]
  },
  {
   "cell_type": "code",
   "execution_count": null,
   "metadata": {},
   "outputs": [],
   "source": [
    "font = {'size': 14}\n",
    "matplotlib.rc('font', **font)\n",
    "\n",
    "scale = 0.5\n",
    "plt.figure(figsize=(10*scale, 8*scale))\n",
    "\n",
    "plt.plot(lengths, np.array(metrics['deepsets']['mse'])/1e5, 'x-')\n",
    "plt.plot(lengths, np.array(metrics['lstm']['mse'])/1e5, 'x-')\n",
    "plt.plot(lengths, np.array(metrics['gru']['mse'])/1e5, 'x-')\n",
    "plt.xlabel('Number of digits to multiply')\n",
    "plt.ylabel('Mean square error/1e5')\n",
    "plt.title('MSE')\n",
    "plt.legend(['Deepsets', 'LSTM', 'GRU'], fontsize=14)\n",
    "plt.tight_layout()\n",
    "plt.show()"
   ]
  },
  {
   "cell_type": "code",
   "execution_count": null,
   "metadata": {},
   "outputs": [],
   "source": []
  },
  {
   "cell_type": "code",
   "execution_count": null,
   "metadata": {},
   "outputs": [],
   "source": []
  }
 ],
 "metadata": {
  "kernelspec": {
   "display_name": "bakalarka",
   "language": "python",
   "name": "bakalarka"
  },
  "language_info": {
   "codemirror_mode": {
    "name": "ipython",
    "version": 3
   },
   "file_extension": ".py",
   "mimetype": "text/x-python",
   "name": "python",
   "nbconvert_exporter": "python",
   "pygments_lexer": "ipython3",
   "version": "3.8.5"
  }
 },
 "nbformat": 4,
 "nbformat_minor": 4
}
